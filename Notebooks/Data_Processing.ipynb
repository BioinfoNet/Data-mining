{
 "cells": [
  {
   "cell_type": "markdown",
   "metadata": {},
   "source": [
    "### Data Pre-processing and Cleaning"
   ]
  },
  {
   "cell_type": "code",
   "execution_count": 36,
   "metadata": {},
   "outputs": [],
   "source": [
    "import matplotlib\n",
    "matplotlib.use(\"Agg\")\n",
    "import matplotlib.pyplot as plt\n",
    "import pandas as pd\n",
    "%matplotlib notebook"
   ]
  },
  {
   "cell_type": "code",
   "execution_count": 37,
   "metadata": {},
   "outputs": [],
   "source": [
    "import math\n",
    "\n",
    "def isOpen(line):\n",
    "    try:\n",
    "        if math.isnan(line):\n",
    "            line = 'closed'\n",
    "    except TypeError:\n",
    "        line = 'open'\n",
    "    return line\n",
    "\n",
    "# Create a new column that checks whether the paper is open or not\n",
    "#data['isopen'] = data.pmd.apply(lambda l:isOpen(l))"
   ]
  },
  {
   "cell_type": "markdown",
   "metadata": {},
   "source": [
    "#### Tried this bash approach \n",
    "\n",
    "This did not work. The join command could not accept tab separated output. "
   ]
  },
  {
   "cell_type": "code",
   "execution_count": 4,
   "metadata": {},
   "outputs": [],
   "source": [
    "%%bash\n",
    "LANG=en_EN sort -d ../Data/CleanedPubidJournalYear.txt \\\n",
    ">../Data/CleanedPubidJournalYearSorted.txt\n",
    "\n",
    "LANG=en_EN sort -d ../Data/pmid_pmc_check.txt \\\n",
    ">../Data/pmid_pmc_check_sorted.txt\n",
    "\n",
    "LANG=en_EN join ../Data/pmid_pmc_check_sorted.txt \\\n",
    "../Data/CleanedPubidJournalYearSorted.txt \\\n",
    ">../Data/CleanedPubidJournalYearPmic.txt"
   ]
  },
  {
   "cell_type": "markdown",
   "metadata": {},
   "source": [
    "#### So I Wrote a Python Code to parse the Abstracts for useful information"
   ]
  },
  {
   "cell_type": "code",
   "execution_count": 14,
   "metadata": {},
   "outputs": [],
   "source": [
    "def parseAbstracts(infile,outfile):\n",
    "    with open(outfile,'w') as clean:\n",
    "        with open(infile) as abstract:\n",
    "            tag = False\n",
    "            for line in abstract:\n",
    "                if line[0].isdigit() and (\n",
    "                    line[1:3] == '. ' or line[2:4] == '. ' or line[3:5] == '. '):\n",
    "                    if tag:\n",
    "                        continue\n",
    "                    else:\n",
    "                        try:\n",
    "                            date = line.replace(\n",
    "                                ';','.').replace(':','.').split('.')[2]\n",
    "                            journal = line.replace(\n",
    "                                ';','.').replace(':','.').split('.')[1]\n",
    "                            tag = True\n",
    "                        except IndexError:\n",
    "                            print(line)\n",
    "                            tag = False\n",
    "                if tag and line.startswith('PMID:'):\n",
    "                    pubid = line.split()[1]\n",
    "                    tag=False\n",
    "                    clean.write('%s\\t%s\\t%s\\n' % (pubid, journal, date.strip()))\n",
    "            "
   ]
  },
  {
   "cell_type": "markdown",
   "metadata": {},
   "source": [
    "Keep in mind that 4 papers had been retrated and therefore their details were not parsed correctly and were not included in the analysis.\n",
    "\n",
    "Used the script below to confirm the recheck articles that were published in August 2018. Most had not been assigned PMIC ID yet they were open."
   ]
  },
  {
   "cell_type": "code",
   "execution_count": 28,
   "metadata": {},
   "outputs": [
    {
     "name": "stdout",
     "output_type": "stream",
     "text": [
      "30312417\n",
      "30312309\n",
      "30311515\n",
      "30311422\n",
      "30311117\n",
      "30309787\n",
      "30309738\n",
      "30309402\n",
      "30309343\n",
      "30308064\n",
      "30307994\n",
      "30307567\n",
      "30305924\n",
      "30305236\n",
      "30305159\n",
      "30305127\n",
      "30305123\n",
      "30305069\n",
      "30305067\n",
      "30304206\n",
      "30304043\n",
      "30303978\n",
      "30302585\n",
      "30300838\n",
      "30300797\n",
      "30300389\n",
      "30298229\n",
      "30297412\n",
      "30297124\n",
      "30296964\n",
      "30295231\n",
      "30287676\n",
      "30286763\n",
      "30285848\n",
      "30285768\n",
      "30285745\n",
      "30285684\n",
      "30283498\n",
      "30282787\n",
      "30282493\n",
      "30281594\n",
      "30277311\n",
      "30275421\n",
      "30273342\n",
      "30270054\n",
      "30269584\n",
      "30248195\n",
      "30224199\n",
      "30223982\n",
      "30220395\n",
      "30219666\n",
      "30173559\n",
      "30173395\n",
      "30143829\n",
      "30120168\n",
      "30109391\n",
      "30105967\n",
      "30105965\n",
      "30105964\n",
      "30084344\n",
      "30077450\n",
      "30041058\n",
      "30031730\n",
      "30017827\n",
      "30006028\n",
      "30005020\n",
      "29985263\n",
      "29961102\n",
      "29885751\n",
      "29877169\n",
      "29792760\n",
      "29752729\n",
      "29751313\n",
      "29667077\n",
      "29664764\n",
      "29661259\n",
      "29603110\n",
      "29594962\n",
      "29464876\n",
      "29453584\n",
      "29397542\n"
     ]
    }
   ],
   "source": [
    "!grep '2018 Oct' ../Data/CleanedKenyanPaps.txt |cut -f1"
   ]
  },
  {
   "cell_type": "code",
   "execution_count": 29,
   "metadata": {},
   "outputs": [
    {
     "name": "stdout",
     "output_type": "stream",
     "text": [
      "30312417\n",
      "30312309\n",
      "30311515\n",
      "30311422\n",
      "30311117\n",
      "30309787\n",
      "30309738\n",
      "30309402\n",
      "30309343\n",
      "30308064\n",
      "30307994\n",
      "30307567\n",
      "30305924\tPMC6173229\n",
      "30305236\n",
      "30305159\n",
      "30305127\n",
      "30305123\n",
      "30305069\n",
      "30305067\n",
      "30304206\n",
      "30304043\n",
      "30303978\n",
      "30302585\n",
      "30300838\n",
      "30300797\n",
      "30300389\n",
      "30298229\n",
      "30297412\n",
      "30297124\n",
      "30296964\n",
      "30295231\n",
      "30287676\n",
      "30286763\n",
      "30285848\tPMC6167850\n",
      "30285768\tPMC6171301\n",
      "30285745\tPMC6167779\n",
      "30285684\tPMC6167894\n",
      "30283498\tPMC6131765\n",
      "30282787\n",
      "30282493\n",
      "30281594\n",
      "30277311\n",
      "30275421\n",
      "30273342\n",
      "30270054\n",
      "30269584\n",
      "30248195\n",
      "30224199\n",
      "30223982\n",
      "30220395\tPMC6152584\n",
      "30219666\n",
      "30173559\n",
      "30173395\n",
      "30143829\n",
      "30120168\n",
      "30109391\n",
      "30105967\n",
      "30105965\n",
      "30105964\n",
      "30084344\n",
      "30077450\n",
      "30041058\tPMC6139638\n",
      "30031730\n",
      "30017827\n",
      "30006028\n",
      "30005020\tNIHMS980335\n",
      "29985263\n",
      "29961102\tPMC6154034\n",
      "29885751\n",
      "29877169\n",
      "29792760\n",
      "29752729\n",
      "29751313\n",
      "29667077\n",
      "29664764\n",
      "29661259\n",
      "29603110\tPMC6146064\n",
      "29594962\tPMC6156752\n",
      "29464876\n",
      "29453584\n",
      "29397542\tPMC6131128\n"
     ]
    }
   ],
   "source": [
    "%%bash\n",
    "for line in $(grep '2018 Oct' ../Data/CleanedKenyanPaps.txt |cut -f1)\n",
    "    do\n",
    "        efetch -db pubmed -id $line \\\n",
    "        -format xml | xtract \\\n",
    "        -pattern ArticleIdList -element ArticleId |cut -f1,4\n",
    "    done"
   ]
  },
  {
   "cell_type": "markdown",
   "metadata": {},
   "source": [
    "#### Merge the data "
   ]
  },
  {
   "cell_type": "code",
   "execution_count": 6,
   "metadata": {},
   "outputs": [],
   "source": [
    "def mergeData(pmcPMID,outfile):\n",
    "    '''\n",
    "    Takes a PMC_PMID check file and merges \n",
    "    '''\n",
    "    pmc_pmid = pd.read_table(\n",
    "        pmcPMID,header=None, names=['pmid', 'pmcid'])\n",
    "\n",
    "    pmc_pmid['isopen'] = pmc_pmid['pmcid'].apply(\n",
    "        lambda l:isOpen(l))\n",
    "    \n",
    "    journal_year = pd.read_table(\n",
    "        outfile, header=None, names=['pmid','journal','date'])\n",
    "    \n",
    "    data = pd.merge(pmc_pmid, journal_year, on=\"pmid\")\n",
    "    \n",
    "    return data"
   ]
  },
  {
   "cell_type": "code",
   "execution_count": 7,
   "metadata": {},
   "outputs": [],
   "source": [
    "def convertDate(data,outcsv):\n",
    "    '''\n",
    "    Given a dataframe, convert to date time and separate\n",
    "    the date columns\n",
    "    '''\n",
    "    data.set_index('pmid', inplace=True)\n",
    "    #### Conver the date column to date format\n",
    "    data['date'] = pd.to_datetime(data['date'], errors='coerce')\n",
    "    data['year'] = data.date.dt.year\n",
    "    data['month'] = data.date.dt.month\n",
    "    ### Save the data in a csv for future re-use\n",
    "    data.to_csv(outcsv)"
   ]
  },
  {
   "cell_type": "markdown",
   "metadata": {},
   "source": [
    "#### Initial data, with Kenya as KeyWord"
   ]
  },
  {
   "cell_type": "code",
   "execution_count": 23,
   "metadata": {},
   "outputs": [],
   "source": [
    "infile = '../Data/abstracts.txt'\n",
    "outfile = '../Data/CleanedPubidJournalYear.txt'\n",
    "pmcPMID = '../Data/pmid_pmc_check.txt'\n",
    "outcsv = '../Data/PMID_PMC_Journal_Year.csv'"
   ]
  },
  {
   "cell_type": "code",
   "execution_count": 24,
   "metadata": {},
   "outputs": [
    {
     "name": "stdout",
     "output_type": "stream",
     "text": [
      "11. Providing Sustainable Mental and Neurological Health Care in Ghana and\n",
      "\n",
      "9. RETRACTED ARTICLE\n",
      "\n",
      "40. RETRACTED ARTICLE\n",
      "\n",
      "68. RETRACTED ARTICLE\n",
      "\n",
      "84. RETRACTED ARTICLE\n",
      "\n"
     ]
    }
   ],
   "source": [
    "parseAbstracts(infile,outfile)\n",
    "data = mergeData(pmcPMID,outfile)\n",
    "convertDate(data,outcsv)"
   ]
  },
  {
   "cell_type": "markdown",
   "metadata": {},
   "source": [
    "#### Updated data, with Kenya as KeyWord in affliation"
   ]
  },
  {
   "cell_type": "code",
   "execution_count": 19,
   "metadata": {},
   "outputs": [],
   "source": [
    "infile = '../Data/kenpaps.txt'\n",
    "outfile = '../Data/CleanedKenyanPaps.txt'\n",
    "pmcPMID = '../Data/pmid_pmc_check.txt'\n",
    "outcsv = '../Data/PMID_PMC_Journal_Year_Kenya.csv'"
   ]
  },
  {
   "cell_type": "code",
   "execution_count": 22,
   "metadata": {},
   "outputs": [
    {
     "name": "stdout",
     "output_type": "stream",
     "text": [
      "99. RETRACTED ARTICLE\n",
      "\n",
      "72. RETRACTED ARTICLE\n",
      "\n",
      "35. RETRACTED ARTICLE\n",
      "\n"
     ]
    }
   ],
   "source": [
    "parseAbstracts(infile,outfile)\n",
    "data = mergeData(pmcPMID,outfile)\n",
    "convertDate(data,outcsv)"
   ]
  },
  {
   "cell_type": "code",
   "execution_count": 21,
   "metadata": {},
   "outputs": [],
   "source": []
  },
  {
   "cell_type": "markdown",
   "metadata": {},
   "source": [
    "### Processing Preprint data\n",
    "\n",
    "The data we are working with are downloaded from [prepu](https://raw.githubusercontent.com/OmnesRes/prepub/master/biorxiv/biorxiv_licenses.tsv). \n",
    "\n",
    "1. First, we get the pre-prints with Kenyan authors"
   ]
  },
  {
   "cell_type": "code",
   "execution_count": 27,
   "metadata": {},
   "outputs": [],
   "source": [
    "%%bash\n",
    "    echo `cut -f 7 ../Data/biorxiv_licenses.tsv|grep -c -f \\\n",
    "    ../Data/countries` \\\n",
    "    >>../Data/countries_papers2.txt\n"
   ]
  },
  {
   "cell_type": "markdown",
   "metadata": {},
   "source": [
    "2\\. Downloaded a list of all the countries from [this gist](https://gist.github.com/kalinchernev/486393efcca01623b18d)\n",
    "\n",
    "3\\. Counted the number of papers available in the preprints affiliated with each of the countries"
   ]
  },
  {
   "cell_type": "code",
   "execution_count": 52,
   "metadata": {},
   "outputs": [],
   "source": [
    "%%bash\n",
    "while read country; \n",
    "do\n",
    "  echo -e \"$country\\t\"`cut -f 7 ../Data/biorxiv_licenses.tsv|grep -c \"\\b$country\\b\"`\n",
    "done <../Data/countries >../Data/preprint_country_counts.txt"
   ]
  },
  {
   "cell_type": "markdown",
   "metadata": {},
   "source": [
    "##### See Data_Analysis_and_Visualization notebook for further analysis"
   ]
  },
  {
   "cell_type": "code",
   "execution_count": null,
   "metadata": {},
   "outputs": [],
   "source": []
  }
 ],
 "metadata": {
  "kernelspec": {
   "display_name": "Python 3",
   "language": "python",
   "name": "python3"
  },
  "language_info": {
   "codemirror_mode": {
    "name": "ipython",
    "version": 3
   },
   "file_extension": ".py",
   "mimetype": "text/x-python",
   "name": "python",
   "nbconvert_exporter": "python",
   "pygments_lexer": "ipython3",
   "version": "3.6.12"
  },
  "latex_envs": {
   "LaTeX_envs_menu_present": true,
   "autoclose": false,
   "autocomplete": true,
   "bibliofile": "biblio.bib",
   "cite_by": "apalike",
   "current_citInitial": 1,
   "eqLabelWithNumbers": true,
   "eqNumInitial": 1,
   "hotkeys": {
    "equation": "Ctrl-E",
    "itemize": "Ctrl-I"
   },
   "labels_anchors": false,
   "latex_user_defs": false,
   "report_style_numbering": false,
   "user_envs_cfg": false
  }
 },
 "nbformat": 4,
 "nbformat_minor": 2
}
