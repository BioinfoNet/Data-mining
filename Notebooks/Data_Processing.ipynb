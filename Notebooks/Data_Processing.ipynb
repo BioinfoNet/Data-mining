{
 "cells": [
  {
   "cell_type": "markdown",
   "metadata": {},
   "source": [
    "### Data Pre-processing and Cleaning"
   ]
  },
  {
   "cell_type": "code",
   "execution_count": 1,
   "metadata": {},
   "outputs": [],
   "source": [
    "import matplotlib\n",
    "matplotlib.use(\"Agg\")\n",
    "import matplotlib.pyplot as plt\n",
    "import pandas as pd\n",
    "%matplotlib notebook"
   ]
  },
  {
   "cell_type": "code",
   "execution_count": 2,
   "metadata": {},
   "outputs": [],
   "source": [
    "import math\n",
    "\n",
    "def isOpen(line):\n",
    "    try:\n",
    "        if math.isnan(line):\n",
    "            line = 'closed'\n",
    "    except TypeError:\n",
    "        line = 'open'\n",
    "    return line\n",
    "\n",
    "# Create a new column that checks whether the paper is open or not\n",
    "#data['isopen'] = data.pmd.apply(lambda l:isOpen(l))"
   ]
  },
  {
   "cell_type": "markdown",
   "metadata": {},
   "source": [
    "#### Tried this bash approach \n",
    "\n",
    "This did not work. The join command could not accept tab separated output. "
   ]
  },
  {
   "cell_type": "code",
   "execution_count": 4,
   "metadata": {},
   "outputs": [],
   "source": [
    "%%bash\n",
    "LANG=en_EN sort -d ../Data/CleanedPubidJournalYear.txt \\\n",
    ">../Data/CleanedPubidJournalYearSorted.txt\n",
    "\n",
    "LANG=en_EN sort -d ../Data/pmid_pmc_check.txt \\\n",
    ">../Data/pmid_pmc_check_sorted.txt\n",
    "\n",
    "LANG=en_EN join ../Data/pmid_pmc_check_sorted.txt \\\n",
    "../Data/CleanedPubidJournalYearSorted.txt \\\n",
    ">../Data/CleanedPubidJournalYearPmic.txt"
   ]
  },
  {
   "cell_type": "markdown",
   "metadata": {},
   "source": [
    "#### So I Wrote a Python Code to parse the Abstracts for useful information"
   ]
  },
  {
   "cell_type": "code",
   "execution_count": 5,
   "metadata": {},
   "outputs": [
    {
     "name": "stdout",
     "output_type": "stream",
     "text": [
      "11. Providing Sustainable Mental and Neurological Health Care in Ghana and\n",
      "\n",
      "9. RETRACTED ARTICLE\n",
      "\n",
      "40. RETRACTED ARTICLE\n",
      "\n",
      "68. RETRACTED ARTICLE\n",
      "\n",
      "84. RETRACTED ARTICLE\n",
      "\n"
     ]
    }
   ],
   "source": [
    "with open('../Data/CleanedPubidJournalYear.txt','w') as clean:\n",
    "    with open('../Data/abstracts.txt') as abstract:\n",
    "        tag = False\n",
    "        for line in abstract:\n",
    "            if line[0].isdigit() and (\n",
    "                line[1:3] == '. ' or line[2:4] == '. ' or line[3:5] == '. '):\n",
    "                if tag:\n",
    "                    continue\n",
    "                else:\n",
    "                    try:\n",
    "                        date = line.replace(\n",
    "                            ';','.').replace(':','.').split('.')[2]\n",
    "                        journal = line.replace(\n",
    "                            ';','.').replace(':','.').split('.')[1]\n",
    "                        tag = True\n",
    "                    except IndexError:\n",
    "                        print(line)\n",
    "                        tag = False\n",
    "            if tag and line.startswith('PMID:'):\n",
    "                pubid = line.split()[1]\n",
    "                tag=False\n",
    "                clean.write('%s\\t%s\\t%s\\n' % (pubid, journal, date.strip()))\n",
    "            "
   ]
  },
  {
   "cell_type": "markdown",
   "metadata": {},
   "source": [
    "Keep in mind that 4 papers had been retrated and therefore their details were not parsed correctly and were not included in the analysis.\n",
    "\n",
    "Used the script below to confirm the recheck articles that were published in August 2018. Most had not been assigned PMIC ID yet they were open."
   ]
  },
  {
   "cell_type": "code",
   "execution_count": 6,
   "metadata": {},
   "outputs": [
    {
     "name": "stdout",
     "output_type": "stream",
     "text": [
      "30106283\n",
      "30105967\n",
      "30105965\n",
      "30105964\n",
      "30105251\n"
     ]
    }
   ],
   "source": [
    "%%bash\n",
    "for line in 30106283 30105967 30105965 30105964 30105251\n",
    "    do\n",
    "        efetch -db pubmed -id $line \\\n",
    "        -format xml | xtract \\\n",
    "        -pattern ArticleIdList -element ArticleId |cut -f1,4\n",
    "    done"
   ]
  },
  {
   "cell_type": "markdown",
   "metadata": {},
   "source": [
    "#### Merge the data "
   ]
  },
  {
   "cell_type": "code",
   "execution_count": 7,
   "metadata": {},
   "outputs": [],
   "source": [
    "pmc_pmid = pd.read_table('../Data/pmid_pmc_check.txt',\n",
    "                         header=None, names=['pmid', 'pmcid'])\n",
    "\n",
    "pmc_pmid['isopen'] = pmc_pmid['pmcid'].apply(lambda l:isOpen(l))"
   ]
  },
  {
   "cell_type": "code",
   "execution_count": 8,
   "metadata": {},
   "outputs": [],
   "source": [
    "journal_year = pd.read_table(\n",
    "    '../Data/CleanedPubidJournalYear.txt',\n",
    "    header=None, names=['pmid','journal','date'])"
   ]
  },
  {
   "cell_type": "code",
   "execution_count": 9,
   "metadata": {},
   "outputs": [],
   "source": [
    "data = pd.merge(pmc_pmid, journal_year, on=\"pmid\")\n",
    "data.set_index('pmid', inplace=True)"
   ]
  },
  {
   "cell_type": "markdown",
   "metadata": {},
   "source": [
    "#### Conver the date column to date format"
   ]
  },
  {
   "cell_type": "code",
   "execution_count": 10,
   "metadata": {},
   "outputs": [],
   "source": [
    "data['date'] = pd.to_datetime(data['date'], errors='coerce')\n",
    "data['year'] = data.date.dt.year\n",
    "data['month'] = data.date.dt.month"
   ]
  },
  {
   "cell_type": "markdown",
   "metadata": {},
   "source": [
    "### Save the data in a csv for future re-use"
   ]
  },
  {
   "cell_type": "code",
   "execution_count": 11,
   "metadata": {},
   "outputs": [],
   "source": [
    "data.to_csv('../Data/PMID_PMC_Journal_Year.csv')"
   ]
  },
  {
   "cell_type": "code",
   "execution_count": null,
   "metadata": {},
   "outputs": [],
   "source": []
  }
 ],
 "metadata": {
  "kernelspec": {
   "display_name": "Python 3",
   "language": "python",
   "name": "python3"
  },
  "language_info": {
   "codemirror_mode": {
    "name": "ipython",
    "version": 3
   },
   "file_extension": ".py",
   "mimetype": "text/x-python",
   "name": "python",
   "nbconvert_exporter": "python",
   "pygments_lexer": "ipython3",
   "version": "3.6.7"
  },
  "latex_envs": {
   "LaTeX_envs_menu_present": true,
   "autoclose": false,
   "autocomplete": true,
   "bibliofile": "biblio.bib",
   "cite_by": "apalike",
   "current_citInitial": 1,
   "eqLabelWithNumbers": true,
   "eqNumInitial": 1,
   "hotkeys": {
    "equation": "Ctrl-E",
    "itemize": "Ctrl-I"
   },
   "labels_anchors": false,
   "latex_user_defs": false,
   "report_style_numbering": false,
   "user_envs_cfg": false
  }
 },
 "nbformat": 4,
 "nbformat_minor": 2
}
