{
 "cells": [
  {
   "cell_type": "code",
   "execution_count": 6,
   "metadata": {},
   "outputs": [],
   "source": [
    "# import a module just a .py file\n",
    "import pandas as pd\n",
    "import dask.dataframe as dd\n",
    "\n",
    "\n",
    "from Bio import Entrez"
   ]
  },
  {
   "cell_type": "markdown",
   "metadata": {},
   "source": [
    "### Get the Pubmed IDs"
   ]
  },
  {
   "cell_type": "code",
   "execution_count": 7,
   "metadata": {},
   "outputs": [],
   "source": [
    "# email you use from NCBI\n",
    "Entrez.email = \"benmainye@gmail.com\""
   ]
  },
  {
   "cell_type": "code",
   "execution_count": 8,
   "metadata": {},
   "outputs": [],
   "source": [
    "# make a placeholder to store result from querying \n",
    "handle = Entrez.esearch(db = \"pubmed\", retmax=100, term=\"[Kenya]\")"
   ]
  },
  {
   "cell_type": "code",
   "execution_count": 9,
   "metadata": {},
   "outputs": [
    {
     "name": "stdout",
     "output_type": "stream",
     "text": [
      "CPU times: user 3 µs, sys: 0 ns, total: 3 µs\n",
      "Wall time: 6.91 µs\n"
     ]
    }
   ],
   "source": [
    "# make another placeholder which queries NCBI to get the NCBI\n",
    "# IDs of interest\n",
    "%time\n",
    "kenyan_records = Entrez.read(handle)\n",
    "kenyan_pubids = kenyan_records[\"IdList\"]"
   ]
  },
  {
   "cell_type": "code",
   "execution_count": 10,
   "metadata": {},
   "outputs": [
    {
     "data": {
      "text/plain": [
       "['31770823', '31769388', '31767540', '31767012', '31766987', '31766874', '31762689', '31765422', '31765417', '31765415', '31765383', '31764270', '31764267', '31764258', '31764108', '31764107', '31763997', '31763679', '31762905', '31762899', '31762589', '31762525', '31761558', '31761095', '31761001', '31761000', '31760979', '31760952', '31760941', '31759619', '31759421', '31759120', '31758384', '31758119', '31756808', '31756512', '31756291', '31756242', '31756189', '31755824', '31755021', '31754527', '31753675', '31753065', '31752872', '31752800', '31752274', '31751418', '31751377', '31750337', '31749993', '31749840', '31748995', '31748534', '31747850', '31747807', '31747411', '31746311', '31745333', '31744266', '31744045', '31743899', '31743859', '31743375', '31742234', '31741540', '31741443', '31740932', '31740409', '31738324', '31736995', '31735539', '31734938', '31734704', '31734688', '31733478', '31733270', '31733075', '31733043', '31732835', '31732571', '31732171', '31731998', '31731633', '31731141', '31730364', '31730168', '31728952', '31728795', '31728506', '31728453', '31728346', '31728161', '31727836', '31727697', '31727516', '31727439', '31727265', '31727146', '31726899']"
      ]
     },
     "execution_count": 10,
     "metadata": {},
     "output_type": "execute_result"
    }
   ],
   "source": [
    "kenyan_pubids"
   ]
  },
  {
   "cell_type": "code",
   "execution_count": 11,
   "metadata": {},
   "outputs": [
    {
     "data": {
      "text/plain": [
       "100"
      ]
     },
     "execution_count": 11,
     "metadata": {},
     "output_type": "execute_result"
    }
   ],
   "source": [
    "# counting the number of ids for Kenya\n",
    "kenyan_pubids.__len__()"
   ]
  },
  {
   "cell_type": "markdown",
   "metadata": {},
   "source": [
    "## Extract relevant summary data for the papers and save to file"
   ]
  },
  {
   "cell_type": "code",
   "execution_count": null,
   "metadata": {},
   "outputs": [],
   "source": [
    "# the next line needs optimization \n",
    "# mapper as opposes to an explicit loop\n",
    "# the paradigm has a missing abstract which i can use for the the NLP analysis: That is, LSA and word2vec\n",
    "# if the results make sense we can make an application for the microbiome project"
   ]
  },
  {
   "cell_type": "code",
   "execution_count": 16,
   "metadata": {},
   "outputs": [],
   "source": [
    "# make an empty dataframe object\n",
    "raw_df = pd.DataFrame()\n",
    "\n",
    "# use a mapper for the code below\n",
    "# same as the code below but using a functional approach instead\n",
    "test = map(lambda i: Entrez.esummary(db = \"pubmed\", id = i),kenyan_pubids)"
   ]
  },
  {
   "cell_type": "code",
   "execution_count": 8,
   "metadata": {},
   "outputs": [
    {
     "data": {
      "text/html": [
       "<div>\n",
       "<style scoped>\n",
       "    .dataframe tbody tr th:only-of-type {\n",
       "        vertical-align: middle;\n",
       "    }\n",
       "\n",
       "    .dataframe tbody tr th {\n",
       "        vertical-align: top;\n",
       "    }\n",
       "\n",
       "    .dataframe thead th {\n",
       "        text-align: right;\n",
       "    }\n",
       "</style>\n",
       "<table border=\"1\" class=\"dataframe\">\n",
       "  <thead>\n",
       "    <tr style=\"text-align: right;\">\n",
       "      <th></th>\n",
       "    </tr>\n",
       "  </thead>\n",
       "  <tbody>\n",
       "  </tbody>\n",
       "</table>\n",
       "</div>"
      ],
      "text/plain": [
       "Empty DataFrame\n",
       "Columns: []\n",
       "Index: []"
      ]
     },
     "execution_count": 8,
     "metadata": {},
     "output_type": "execute_result"
    }
   ],
   "source": [
    "raw_df_occupied"
   ]
  },
  {
   "cell_type": "code",
   "execution_count": 8,
   "metadata": {},
   "outputs": [
    {
     "name": "stdout",
     "output_type": "stream",
     "text": [
      "CPU times: user 2 µs, sys: 1e+03 ns, total: 3 µs\n",
      "Wall time: 6.91 µs\n"
     ]
    },
    {
     "name": "stderr",
     "output_type": "stream",
     "text": [
      "/Users/aoi-rain/miniconda3/lib/python3.6/site-packages/ipykernel_launcher.py:6: FutureWarning: Sorting because non-concatenation axis is not aligned. A future version\n",
      "of pandas will change to not sort by default.\n",
      "\n",
      "To accept the future behavior, pass 'sort=False'.\n",
      "\n",
      "To retain the current behavior and silence the warning, pass 'sort=True'.\n",
      "\n",
      "  \n"
     ]
    }
   ],
   "source": [
    "Main_df = pd.DataFrame()\n",
    "%time\n",
    "for pubid in kenyan_pubids:\n",
    "    test= Entrez.read(Entrez.esummary(db = \"pubmed\", id = pubid))\n",
    "    df2 = pd.DataFrame(test)\n",
    "    Main_df = pd.concat([Main_df,df2])\n",
    "\n",
    "Cleaned_Main_df = Main_df[['Id', 'ArticleIds', 'AuthorList', 'DOI' , 'EPubDate',\n",
    "       'FullJournalName', 'HasAbstract', 'LastAuthor', 'NlmUniqueID',\n",
    "       'PubDate', 'PubTypeList', 'RecordStatus', 'Source', 'Title']]\n",
    "\n",
    "Cleaned_Main_df.to_csv('test2_file.txt', sep='\\t', index=False)"
   ]
  },
  {
   "cell_type": "code",
   "execution_count": null,
   "metadata": {},
   "outputs": [],
   "source": []
  },
  {
   "cell_type": "code",
   "execution_count": null,
   "metadata": {},
   "outputs": [],
   "source": [
    "?Entrez.efetch()"
   ]
  },
  {
   "cell_type": "code",
   "execution_count": null,
   "metadata": {},
   "outputs": [],
   "source": [
    "len(Cleaned_Main_df)"
   ]
  },
  {
   "cell_type": "code",
   "execution_count": null,
   "metadata": {},
   "outputs": [],
   "source": [
    "Cleaned_Main_df = Main_df[['Id', 'AuthorList', 'DOI' , 'EPubDate',\n",
    "       'FullJournalName', 'HasAbstract', 'LastAuthor', 'NlmUniqueID',\n",
    "       'PubDate', 'PubTypeList', 'RecordStatus', 'Source', 'Title']]\n",
    "\n",
    "Cleaned_Main_df.to_csv('test_file.txt', sep='\\t', index=False)"
   ]
  },
  {
   "cell_type": "code",
   "execution_count": 18,
   "metadata": {},
   "outputs": [
    {
     "data": {
      "text/html": [
       "<div>\n",
       "<style scoped>\n",
       "    .dataframe tbody tr th:only-of-type {\n",
       "        vertical-align: middle;\n",
       "    }\n",
       "\n",
       "    .dataframe tbody tr th {\n",
       "        vertical-align: top;\n",
       "    }\n",
       "\n",
       "    .dataframe thead th {\n",
       "        text-align: right;\n",
       "    }\n",
       "</style>\n",
       "<table border=\"1\" class=\"dataframe\">\n",
       "  <thead>\n",
       "    <tr style=\"text-align: right;\">\n",
       "      <th></th>\n",
       "      <th>Id</th>\n",
       "      <th>AuthorList</th>\n",
       "      <th>DOI</th>\n",
       "      <th>EPubDate</th>\n",
       "      <th>FullJournalName</th>\n",
       "      <th>HasAbstract</th>\n",
       "      <th>LastAuthor</th>\n",
       "      <th>NlmUniqueID</th>\n",
       "      <th>PubDate</th>\n",
       "      <th>PubTypeList</th>\n",
       "      <th>RecordStatus</th>\n",
       "      <th>Source</th>\n",
       "      <th>Title</th>\n",
       "    </tr>\n",
       "  </thead>\n",
       "  <tbody>\n",
       "    <tr>\n",
       "      <th>0</th>\n",
       "      <td>28774306</td>\n",
       "      <td>[Yamin AE, Maleche A]</td>\n",
       "      <td>10.1186/s12914-017-0128-0</td>\n",
       "      <td>2017 Aug 3</td>\n",
       "      <td>BMC international health and human rights</td>\n",
       "      <td>1</td>\n",
       "      <td>Maleche A</td>\n",
       "      <td>101088678</td>\n",
       "      <td>2017 Aug 3</td>\n",
       "      <td>[Journal Article]</td>\n",
       "      <td>PubMed - indexed for MEDLINE</td>\n",
       "      <td>BMC Int Health Hum Rights</td>\n",
       "      <td>Realizing Universal Health Coverage in East Af...</td>\n",
       "    </tr>\n",
       "    <tr>\n",
       "      <th>0</th>\n",
       "      <td>28771637</td>\n",
       "      <td>[Bunning K, Gona JK, Newton CR, Hartley S]</td>\n",
       "      <td>10.1371/journal.pone.0182214</td>\n",
       "      <td>2017 Aug 3</td>\n",
       "      <td>PloS one</td>\n",
       "      <td>1</td>\n",
       "      <td>Hartley S</td>\n",
       "      <td>101285081</td>\n",
       "      <td>2017</td>\n",
       "      <td>[Journal Article]</td>\n",
       "      <td>PubMed - indexed for MEDLINE</td>\n",
       "      <td>PLoS One</td>\n",
       "      <td>The perception of disability by community grou...</td>\n",
       "    </tr>\n",
       "    <tr>\n",
       "      <th>0</th>\n",
       "      <td>28771558</td>\n",
       "      <td>[Barasa EW, Manyara AM, Molyneux S, Tsofa B]</td>\n",
       "      <td>10.1371/journal.pone.0182440</td>\n",
       "      <td>2017 Aug 3</td>\n",
       "      <td>PloS one</td>\n",
       "      <td>1</td>\n",
       "      <td>Tsofa B</td>\n",
       "      <td>101285081</td>\n",
       "      <td>2017</td>\n",
       "      <td>[Journal Article]</td>\n",
       "      <td>PubMed - indexed for MEDLINE</td>\n",
       "      <td>PLoS One</td>\n",
       "      <td>Recentralization within decentralization: Coun...</td>\n",
       "    </tr>\n",
       "    <tr>\n",
       "      <th>0</th>\n",
       "      <td>28771520</td>\n",
       "      <td>[Shi S, Zhang X, Mandel MA, Zhang P, Zhang Y, ...</td>\n",
       "      <td>10.1371/journal.pone.0181998</td>\n",
       "      <td>2017 Aug 3</td>\n",
       "      <td>PloS one</td>\n",
       "      <td>1</td>\n",
       "      <td>Xiong Z</td>\n",
       "      <td>101285081</td>\n",
       "      <td>2017</td>\n",
       "      <td>[Journal Article]</td>\n",
       "      <td>PubMed - indexed for MEDLINE</td>\n",
       "      <td>PLoS One</td>\n",
       "      <td>Variations of five eIF4E genes across cassava ...</td>\n",
       "    </tr>\n",
       "    <tr>\n",
       "      <th>0</th>\n",
       "      <td>28771495</td>\n",
       "      <td>[Wang G, He X, Ishuga CI]</td>\n",
       "      <td>10.1371/journal.pone.0181380</td>\n",
       "      <td>2017 Aug 3</td>\n",
       "      <td>PloS one</td>\n",
       "      <td>1</td>\n",
       "      <td>Ishuga CI</td>\n",
       "      <td>101285081</td>\n",
       "      <td>2017</td>\n",
       "      <td>[Journal Article]</td>\n",
       "      <td>PubMed - indexed for MEDLINE</td>\n",
       "      <td>PLoS One</td>\n",
       "      <td>Social and content aware One-Class recommendat...</td>\n",
       "    </tr>\n",
       "  </tbody>\n",
       "</table>\n",
       "</div>"
      ],
      "text/plain": [
       "         Id                                         AuthorList  \\\n",
       "0  28774306                              [Yamin AE, Maleche A]   \n",
       "0  28771637         [Bunning K, Gona JK, Newton CR, Hartley S]   \n",
       "0  28771558       [Barasa EW, Manyara AM, Molyneux S, Tsofa B]   \n",
       "0  28771520  [Shi S, Zhang X, Mandel MA, Zhang P, Zhang Y, ...   \n",
       "0  28771495                          [Wang G, He X, Ishuga CI]   \n",
       "\n",
       "                            DOI    EPubDate  \\\n",
       "0     10.1186/s12914-017-0128-0  2017 Aug 3   \n",
       "0  10.1371/journal.pone.0182214  2017 Aug 3   \n",
       "0  10.1371/journal.pone.0182440  2017 Aug 3   \n",
       "0  10.1371/journal.pone.0181998  2017 Aug 3   \n",
       "0  10.1371/journal.pone.0181380  2017 Aug 3   \n",
       "\n",
       "                             FullJournalName  HasAbstract LastAuthor  \\\n",
       "0  BMC international health and human rights            1  Maleche A   \n",
       "0                                   PloS one            1  Hartley S   \n",
       "0                                   PloS one            1    Tsofa B   \n",
       "0                                   PloS one            1    Xiong Z   \n",
       "0                                   PloS one            1  Ishuga CI   \n",
       "\n",
       "  NlmUniqueID     PubDate        PubTypeList                  RecordStatus  \\\n",
       "0   101088678  2017 Aug 3  [Journal Article]  PubMed - indexed for MEDLINE   \n",
       "0   101285081        2017  [Journal Article]  PubMed - indexed for MEDLINE   \n",
       "0   101285081        2017  [Journal Article]  PubMed - indexed for MEDLINE   \n",
       "0   101285081        2017  [Journal Article]  PubMed - indexed for MEDLINE   \n",
       "0   101285081        2017  [Journal Article]  PubMed - indexed for MEDLINE   \n",
       "\n",
       "                      Source  \\\n",
       "0  BMC Int Health Hum Rights   \n",
       "0                   PLoS One   \n",
       "0                   PLoS One   \n",
       "0                   PLoS One   \n",
       "0                   PLoS One   \n",
       "\n",
       "                                               Title  \n",
       "0  Realizing Universal Health Coverage in East Af...  \n",
       "0  The perception of disability by community grou...  \n",
       "0  Recentralization within decentralization: Coun...  \n",
       "0  Variations of five eIF4E genes across cassava ...  \n",
       "0  Social and content aware One-Class recommendat...  "
      ]
     },
     "execution_count": 18,
     "metadata": {},
     "output_type": "execute_result"
    }
   ],
   "source": [
    "Cleaned_Main_df.tail()"
   ]
  },
  {
   "cell_type": "markdown",
   "metadata": {},
   "source": [
    "## Extract paper details, including author affiliations and abstract\n",
    "\n",
    "- Output saved to file\n",
    "- We may use this later on to extract addional inforation"
   ]
  },
  {
   "cell_type": "code",
   "execution_count": null,
   "metadata": {},
   "outputs": [],
   "source": [
    "# write a function to automate rewriting the code over and over again\n",
    "def paper_retriever(pubmedid,email, output_file):\n",
    "    '''The paper retriever function takes your email which uses the same name email as an \n",
    "    argument, pubmedid you can get this from the previous function, searchterm take the NCBI type of query as a string\n",
    "    and renamefile just changing your file names to avoid confusion.\n",
    "    \n",
    "    Return the full paper depending on if it's open access or not.\n",
    "    '''\n",
    "    \n",
    "    # Enter your own email\n",
    "    Entrez.email = email\n",
    "    \n",
    "    # the method efetch does and fetches the information you need brings it back to your Ipython session\n",
    "    handle2 = Entrez.efetch(db=\"pubmed\", id = pubmedid, rettype=\"gb\",retmode=\"text\")\n",
    "    \n",
    "    # using cell magic in a function in the jupyter notebook\n",
    "    with open(output_file, 'a') as paper_data:\n",
    "        paper_data.write(handle2.read())"
   ]
  },
  {
   "cell_type": "code",
   "execution_count": null,
   "metadata": {},
   "outputs": [],
   "source": [
    "email=\"mkamonde.km@gmail.com\"\n",
    "output_file = 'pubmed_text_data.txt'\n",
    "for pubmedid in done_ids:\n",
    "    paper_retriever(pubmedid,email, output_file)"
   ]
  },
  {
   "cell_type": "markdown",
   "metadata": {},
   "source": [
    "# other experimental stuff"
   ]
  },
  {
   "cell_type": "code",
   "execution_count": null,
   "metadata": {},
   "outputs": [],
   "source": [
    "Cleaned_Main_df = Main_df[['Id', 'AuthorList', 'DOI' , 'EPubDate',\n",
    "       'FullJournalName', 'HasAbstract', 'LastAuthor', 'NlmUniqueID',\n",
    "       'PubDate', 'PubTypeList', 'RecordStatus', 'Source', 'Title']]"
   ]
  },
  {
   "cell_type": "code",
   "execution_count": null,
   "metadata": {},
   "outputs": [],
   "source": []
  },
  {
   "cell_type": "code",
   "execution_count": null,
   "metadata": {},
   "outputs": [],
   "source": [
    "# The result is a dictionary that contains various values\n",
    "# Try running this line of code without the bracket [\"IdList\"]\n",
    "pubmed_ids = record[\"IdList\"]"
   ]
  },
  {
   "cell_type": "code",
   "execution_count": null,
   "metadata": {},
   "outputs": [],
   "source": [
    "pubmed_ids"
   ]
  },
  {
   "cell_type": "markdown",
   "metadata": {},
   "source": [
    "Great! We now have **PubMed IDs** that could contain Id's that have papers related to term *[Open science] AND Kenya.* This is the same way you'd request for information at pubmed in NCBI. Let go ahead and get the information the full paper if possible in the next step."
   ]
  },
  {
   "cell_type": "code",
   "execution_count": null,
   "metadata": {},
   "outputs": [],
   "source": [
    "print(\"Extract interesting entries in the data\")\n",
    "print(\"\")\n",
    "print(record2[0]['Id'])\n",
    "print(\"\")\n",
    "print(record2[0]['Title'])\n",
    "print(\"\")\n",
    "print(record2[0]['AuthorList'])\n",
    "print(\"\")\n",
    "print(record2[0]['FullJournalName'])\n",
    "print(\"\")\n",
    "print(record2[0]['EPubDate'])"
   ]
  },
  {
   "cell_type": "code",
   "execution_count": null,
   "metadata": {},
   "outputs": [],
   "source": [
    "# We can't extract everything we want so let's just get the full paper\n",
    "# if we can\n",
    "?Entrez.efetch"
   ]
  },
  {
   "cell_type": "code",
   "execution_count": null,
   "metadata": {},
   "outputs": [],
   "source": [
    "# As Caleb said this will give us XML output which we continue to parse\n",
    "# Notice, the documentation of each argument need more annotation\n",
    "handle4 = Entrez.efetch(db=\"pubmed\", id = \"29515719\", rettype=\"gb\",retmode=\"text\")\n",
    "\n",
    "# fetching the result from the database\n",
    "print(handle4.read())"
   ]
  },
  {
   "cell_type": "code",
   "execution_count": null,
   "metadata": {},
   "outputs": [],
   "source": [
    "?handle4.write()"
   ]
  },
  {
   "cell_type": "code",
   "execution_count": null,
   "metadata": {},
   "outputs": [],
   "source": [
    "# Checking what type of object is return XML maybe?\n",
    "# remove the delete the hash tag to see for yourself\n",
    "type(handle4.read())"
   ]
  },
  {
   "cell_type": "code",
   "execution_count": null,
   "metadata": {},
   "outputs": [],
   "source": [
    "## Using store magic command to store the output to a file\n",
    "# Storing in variables for later is not allowed\n",
    "%store handle4.read() >> file2.txt"
   ]
  },
  {
   "cell_type": "code",
   "execution_count": null,
   "metadata": {},
   "outputs": [],
   "source": [
    "# you can use shell commands directly on the cell of jupyter\n",
    "%cat file2.txt"
   ]
  },
  {
   "cell_type": "markdown",
   "metadata": {},
   "source": [
    "We have to write code 20 times! Nope there's an efficient way to solve our this problem, at least partially. It's .... you guessed it write a function. Go back to the code we wrote we put everything together and change just a few things and we are golden right? RIGHT?"
   ]
  },
  {
   "cell_type": "code",
   "execution_count": null,
   "metadata": {},
   "outputs": [],
   "source": [
    "# write a function to automate rewriting the code over and over again\n",
    "def paper_retriever(pubmedid,email, output_file):\n",
    "    '''The paper retriever function takes your email which uses the same name email as an \n",
    "    argument, pubmedid you can get this from the previous function, searchterm take the NCBI type of query as a string\n",
    "    and renamefile just changing your file names to avoid confusion.\n",
    "    \n",
    "    Return the full paper depending on if it's open access or not.\n",
    "    '''\n",
    "    # Enter your own email\n",
    "    Entrez.email = email\n",
    "    \n",
    "    # search NCBI from the particular search term with method esearch\n",
    "    #handle = Entrez.esearch(db=\"pubmed\", term=searchterm)\n",
    "    \n",
    "    # get the results\n",
    "    #record = Entrez.read(handle)\n",
    "    \n",
    "    # the method efetch does and fetches the information you need brings it back to your Ipython session\n",
    "    handle2 = Entrez.efetch(db=\"pubmed\", id = pubmedid, rettype=\"gb\",retmode=\"text\")\n",
    "    \n",
    "    # seeing the results\n",
    "#     print(\"Extract interesting entries in the data\")\n",
    "#     print(\"\")\n",
    "#     print(record[0]['Id'])\n",
    "#     print(\"\")\n",
    "#     print(record[0]['Title'])\n",
    "#     print(\"\")\n",
    "#     print(record[0]['AuthorList'])\n",
    "#     print(\"\")\n",
    "#     print(record[0]['FullJournalName'])\n",
    "#     print(\"\")\n",
    "#     print(record[0]['EPubDate'])\n",
    "    \n",
    "    # using cell magic in a function in the jupyter notebook\n",
    "    with open(output_file, 'a') as paper_data:\n",
    "        paper_data.write(handle2.read())\n",
    "    \n"
   ]
  },
  {
   "cell_type": "code",
   "execution_count": null,
   "metadata": {},
   "outputs": [],
   "source": [
    "email=\"mkamonde.km@gmail.com\"\n",
    "output_file = 'pubmed_text_open_data.txt'\n",
    "for pubmedid in pubmed_ids:\n",
    "    paper_retriever(pubmedid,email, output_file)"
   ]
  },
  {
   "cell_type": "code",
   "execution_count": 132,
   "metadata": {},
   "outputs": [],
   "source": []
  },
  {
   "cell_type": "code",
   "execution_count": null,
   "metadata": {},
   "outputs": [],
   "source": [
    "%store paper >> file.txt"
   ]
  },
  {
   "cell_type": "code",
   "execution_count": null,
   "metadata": {},
   "outputs": [],
   "source": [
    "%cat file7.txt"
   ]
  },
  {
   "cell_type": "code",
   "execution_count": null,
   "metadata": {},
   "outputs": [],
   "source": [
    "%cat file3.txt file4.txt file5.txt file6.txt file7.txt > 5papers_opendata_kenya.txt"
   ]
  },
  {
   "cell_type": "code",
   "execution_count": null,
   "metadata": {},
   "outputs": [],
   "source": [
    "%%writefile paper_retriever.py\n",
    "from Bio import Entrez\n",
    "def paper_retriever(email, searchterm, pubmedid):\n",
    "    '''The paper retriever function takes your email which uses the same name email as an \n",
    "    argument, pubmedid you can get this from the previous function, searchterm take the NCBI type of query as a string.\n",
    "    Return the full paper depending on if it's open access or not.\n",
    "    '''\n",
    "    # Enter your own email\n",
    "    Entrez.email = email\n",
    "    \n",
    "    # search NCBI from the particular search term with method esearch\n",
    "    handle = Entrez.esearch(db=\"pubmed\", term=searchterm)\n",
    "    \n",
    "    # get the results\n",
    "    record = Entrez.read(handle)\n",
    "    \n",
    "    # the method efetch does and fetches the information you need brings it back to your Ipython session\n",
    "    handle2 = Entrez.efetch(db=\"pubmed\", id = pubmedid, rettype=\"gb\",retmode=\"text\")\n",
    "    \n",
    "    # using cell magic in a function in the jupyter notebook\n",
    "    return handle2.read()\n",
    "\n",
    "paper1 = paper_retriever(email=\"mkamonde.km@gmail.com\", searchterm=\"[Open science] AND Kenya\",pubmedid=30102697)\n",
    "#%store paper >> papers1.txt\n",
    "print(paper1)"
   ]
  },
  {
   "cell_type": "code",
   "execution_count": 105,
   "metadata": {},
   "outputs": [],
   "source": [
    "# write a function that searches NCBI for NCBI IDS  and returns results into a file."
   ]
  },
  {
   "cell_type": "code",
   "execution_count": 106,
   "metadata": {},
   "outputs": [
    {
     "name": "stdout",
     "output_type": "stream",
     "text": [
      "DictElement({'Count': '1', 'RetMax': '1', 'RetStart': '0', 'IdList': ['30102697'], 'TranslationSet': [], 'TranslationStack': [DictElement({'Term': '30102697[UID]', 'Field': 'UID', 'Count': '-1', 'Explode': 'N'}, attributes={}), 'GROUP'], 'QueryTranslation': '30102697[UID]'}, attributes={})\n",
      "Extract interesting entries in the data\n",
      "\n",
      "30102697\n",
      "\n",
      "Campylobacter, a zoonotic pathogen of global importance: Prevalence and risk factors in the fast-evolving chicken meat system of Nairobi, Kenya.\n",
      "\n",
      "['Carron M', 'Chang YM', 'Momanyi K', 'Akoko J', 'Kiiru J', 'Bettridge J', 'Chaloner G', 'Rushton J', \"O'Brien S\", 'Williams N', 'Fèvre EM', 'Häsler B']\n",
      "\n",
      "PLoS neglected tropical diseases\n",
      "\n",
      "2018 Aug 13\n",
      "DictElement({'Count': '1', 'RetMax': '1', 'RetStart': '0', 'IdList': ['30102697'], 'TranslationSet': [], 'TranslationStack': [DictElement({'Term': '30102697[UID]', 'Field': 'UID', 'Count': '-1', 'Explode': 'N'}, attributes={}), 'GROUP'], 'QueryTranslation': '30102697[UID]'}, attributes={})\n"
     ]
    }
   ],
   "source": [
    "from Bio import Entrez\n",
    "def paper_parser(term, identity):\n",
    "    handle = Entrez.esearch(db=\"pubmed\", term=identity)\n",
    "    record = Entrez.read(handle)\n",
    "    print (record)\n",
    "    handle2 = Entrez.esummary(db=\"pubmed\", id = identity)\n",
    "    record2 = Entrez.read(handle2)\n",
    "    print(\"Extract interesting entries in the data\")\n",
    "    print(\"\")\n",
    "    print(record2[0]['Id'])\n",
    "    print(\"\")\n",
    "    print(record2[0]['Title'])\n",
    "    print(\"\")\n",
    "    print(record2[0]['AuthorList'])\n",
    "    print(\"\")\n",
    "    print(record2[0]['FullJournalName'])\n",
    "    print(\"\")\n",
    "    print(record2[0]['EPubDate'])\n",
    "    return record\n",
    "\n",
    "print(paper_parser(term=\"[Open science] AND Kenya\", identity=30102697))"
   ]
  },
  {
   "cell_type": "code",
   "execution_count": 108,
   "metadata": {},
   "outputs": [
    {
     "name": "stdout",
     "output_type": "stream",
     "text": [
      "Overwriting paper_parser.py\n"
     ]
    }
   ],
   "source": [
    "%%writefile paper_parser.py\n",
    "from Bio import Entrez\n",
    "def paper_parser(term, identity):\n",
    "    Entrez.email = \"benmainye@gmail.com\" #use your email\n",
    "    handle = Entrez.esearch(db=\"pubmed\", term=identity)\n",
    "    record = Entrez.read(handle)\n",
    "    print (record)\n",
    "    handle2 = Entrez.esummary(db=\"pubmed\", id = identity)\n",
    "    record2 = Entrez.read(handle2)\n",
    "    print(\"Extract interesting entries in the data\")\n",
    "    print(\"\")\n",
    "    print(record2[0]['Id'])\n",
    "    print(\"\")\n",
    "    print(record2[0]['Title'])\n",
    "    print(\"\")\n",
    "    print(record2[0]['AuthorList'])\n",
    "    print(\"\")\n",
    "    print(record2[0]['FullJournalName'])\n",
    "    print(\"\")\n",
    "    print(record2[0]['EPubDate'])\n",
    "    return record2\n",
    "\n",
    "paper2 = paper_parser(term=\"[Open science] AND Kenya\", identity=30102697)\n",
    "#%store paper2 >> papers2.txt run in ipython session\n",
    "print(paper2)"
   ]
  },
  {
   "cell_type": "code",
   "execution_count": 109,
   "metadata": {},
   "outputs": [
    {
     "name": "stdout",
     "output_type": "stream",
     "text": [
      "\n",
      "1. PLoS Negl Trop Dis. 2018 Aug 13;12(8):e0006658. doi:\n",
      "10.1371/journal.pntd.0006658. [Epub ahead of print]\n",
      "\n",
      "Campylobacter, a zoonotic pathogen of global importance: Prevalence and risk\n",
      "factors in the fast-evolving chicken meat system of Nairobi, Kenya.\n",
      "\n",
      "Carron M(1)(2), Chang YM(1), Momanyi K(3), Akoko J(3), Kiiru J(4), Bettridge\n",
      "J(3)(5), Chaloner G(5), Rushton J(5), O'Brien S(5), Williams N(5), Fèvre\n",
      "EM(3)(5), Häsler B(1)(2).\n",
      "\n",
      "Author information: \n",
      "(1)Royal Veterinary College (RVC), Pathobiology and Population Sciences,\n",
      "Hatfield, United Kingdom.\n",
      "(2)Leverhulme Centre for Integrative Research on Agriculture and Health (LCIRAH),\n",
      "London, United Kingdom.\n",
      "(3)International Livestock Research Institute (ILRI), Animal and Human Health\n",
      "Programme, Nairobi, Kenya.\n",
      "(4)Centre for Microbiology Research, Kenya Medical Research Institute (KEMRI),\n",
      "Nairobi, Kenya.\n",
      "(5)Institute of Infection and Global Health, University of Liverpool, Leahurst\n",
      "Campus, Neston, United Kingdom.\n",
      "\n",
      "Campylobacteriosis is a leading foodborne zoonosis worldwide, and is frequently\n",
      "associated with handling and consumption of poultry meat. Various studies\n",
      "indicate that Campylobacter causes a substantial human disease burden in low to\n",
      "middle-income countries, but data regarding the organism's epidemiology in\n",
      "countries like Kenya are scarce. In sub-Saharan Africa, 3.8 million deaths of\n",
      "children under-5 years of age are reported annually. Of those, 25% are caused by \n",
      "diarrheal diseases, and Campylobacter is one of the most frequently isolated\n",
      "bacteria from diarrheic children. With the growth of urban conglomerates, such as\n",
      "Kenya's capital, Nairobi, changes in diets, food production systems, and\n",
      "retailing dynamics, it is likely that exposure and susceptibility to this\n",
      "pathogen will change. Therefore, the importance of Campylobacter disease burden\n",
      "in Kenya may increase further. The objectives of this study were: 1) to determine\n",
      "the prevalence of Campylobacter spp. in Nairobi's small-scale chicken farms and\n",
      "meat retailers, and 2) to identify potential risk factors associated with its\n",
      "presence in those sites. The prevalence data provides the first detailed baseline\n",
      "for this pathogen in the urban Kenyan context. The risk factors provide\n",
      "context-specific insights for disease managers. A cross-sectional study of\n",
      "broiler, indigenous chicken farms, and chicken meat retailers, was conducted in a\n",
      "peri-urban, low to middle-income area (Dagoretti), and a very-low income informal\n",
      "settlement (Kibera) of Nairobi. Chicken faeces were collected using one pair of\n",
      "boot socks per farm, and 3 raw chicken meat samples were purchased per retailer. \n",
      "Samples were cultured for viable Campylobacter spp. using mCCDA, followed by\n",
      "blood agar plates in aerobic/microaerobic conditions for prevalence calculations.\n",
      "A questionnaire-based survey on sanitary, sourcing and selling practices was\n",
      "conducted at each site for risk factor identification using logistic regression\n",
      "analyses. A total of 171 farm premises and 53 retailers were sampled and\n",
      "interviewed. The prevalence results for Campylobacter spp. were between 33 to 44%\n",
      "for broiler and indigenous chicken farms, 60% and 64% for retailers, in Dagoretti\n",
      "and Kibera, respectively. Univariable logistic regression showed an association\n",
      "between Campylobacter spp. presence and the easiness of cleaning the display\n",
      "material used by the retailer. Restricting access to the flock was also\n",
      "associated with the pathogen's presence. Multivariable logistic regression\n",
      "identified the selling of defrosted meat as a retailer risk factor (OR: 4.69; 95%\n",
      "CI: 1.31-19.97), calling for more investigation of the reported repetitive\n",
      "freezing-thawing processes and cold chain improvement options. At the farm-level,\n",
      "having a pen floor of material not easy to clean was found to increase the risk\n",
      "(OR: 2.31; 95%CI: 1.06-5.37). The relatively high prevalence of Campylobacter\n",
      "spp. across different areas and value chain nodes indicates a clear human\n",
      "exposure risk. The open nature of both small-scale broiler and indigenous chicken\n",
      "production practices with low biosecurity, hygiene and informal transactions,\n",
      "likely plays a role in this. While gradual improvement of farm biosecurity is\n",
      "recommended, risk factors identified suggest that consumer education and\n",
      "enforcement of basic food safety principles at the retailer end of the food\n",
      "continuum represent key targets for risk reduction in informal settings.\n",
      "\n",
      "DOI: 10.1371/journal.pntd.0006658 \n",
      "PMID: 30102697 \n",
      "\n",
      "Conflict of interest statement: The authors have declared that no competing\n",
      "interests exist.\n",
      "\n",
      "\n"
     ]
    }
   ],
   "source": [
    "%run paper_retriever.py"
   ]
  },
  {
   "cell_type": "code",
   "execution_count": null,
   "metadata": {},
   "outputs": [],
   "source": []
  }
 ],
 "metadata": {
  "kernelspec": {
   "display_name": "Python 3",
   "language": "python",
   "name": "python3"
  },
  "language_info": {
   "codemirror_mode": {
    "name": "ipython",
    "version": 3
   },
   "file_extension": ".py",
   "mimetype": "text/x-python",
   "name": "python",
   "nbconvert_exporter": "python",
   "pygments_lexer": "ipython3",
   "version": "3.6.7"
  },
  "latex_envs": {
   "LaTeX_envs_menu_present": true,
   "autoclose": false,
   "autocomplete": true,
   "bibliofile": "biblio.bib",
   "cite_by": "apalike",
   "current_citInitial": 1,
   "eqLabelWithNumbers": true,
   "eqNumInitial": 1,
   "hotkeys": {
    "equation": "Ctrl-E",
    "itemize": "Ctrl-I"
   },
   "labels_anchors": false,
   "latex_user_defs": false,
   "report_style_numbering": false,
   "user_envs_cfg": false
  }
 },
 "nbformat": 4,
 "nbformat_minor": 2
}
