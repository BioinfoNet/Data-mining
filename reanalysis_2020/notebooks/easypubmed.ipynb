{
 "cells": [
  {
   "cell_type": "markdown",
   "metadata": {},
   "source": [
    "# Rertival of kenya paper using R code (easypubmed and bash)\n",
    "we were to obtain kenya papers from the ncbi database using an R code [easypubmed](https://github.com/dami82/easyPubMed) designed by Damiano Fantini. The code queries the database using the [entrez] (https://www.ncbi.nlm.nih.gov/books/NBK25497/) programming utilies. However the author was able to introduces more functions that can assist in easy manipulation of data. Hence, using the varies functions from the package we set out to accomplish the following objective \n",
    "1. To retrieve Kenya papers from ncbi ranging from the year 1980-2020 \n",
    "2. TO retrieve the status of open access in kenya  \n",
    "3. To determine the affliation of each paper (Determine the collaboration status among Kenya authors)"
   ]
  },
  {
   "cell_type": "code",
   "execution_count": null,
   "metadata": {},
   "outputs": [],
   "source": [
    "# installing packages \n",
    "install.packages(\"easyPubMed\")\n",
    "install.packages(\"devtools\")"
   ]
  },
  {
   "cell_type": "code",
   "execution_count": 1,
   "metadata": {},
   "outputs": [
    {
     "data": {
      "text/html": [
       "'/usr/bin/unzip'"
      ],
      "text/latex": [
       "'/usr/bin/unzip'"
      ],
      "text/markdown": [
       "'/usr/bin/unzip'"
      ],
      "text/plain": [
       "[1] \"/usr/bin/unzip\""
      ]
     },
     "metadata": {},
     "output_type": "display_data"
    },
    {
     "data": {
      "text/html": [
       "'/bin/gtar'"
      ],
      "text/latex": [
       "'/bin/gtar'"
      ],
      "text/markdown": [
       "'/bin/gtar'"
      ],
      "text/plain": [
       "[1] \"/bin/gtar\""
      ]
     },
     "metadata": {},
     "output_type": "display_data"
    },
    {
     "name": "stderr",
     "output_type": "stream",
     "text": [
      "Skipping install of 'easyPubMed' from a github remote, the SHA1 (a2b7ffc8) has not changed since last install.\n",
      "  Use `force = TRUE` to force installation\n",
      "Skipping install of 'businessPubMed' from a github remote, the SHA1 (83798237) has not changed since last install.\n",
      "  Use `force = TRUE` to force installation\n"
     ]
    }
   ],
   "source": [
    "#load library packages R\n",
    "#setting the environment\n",
    "getOption(\"unzip\")\n",
    "Sys.getenv(\"TAR\") \n",
    "options(unzip = \"/opt/conda/bin/unzip\")\n",
    "Sys.setenv(TAR = \"/bin/tar\")\n",
    "devtools::install_github(\"dami82/easyPubMed\")\n",
    "devtools::install_github(\"dami82/businessPubMed\")"
   ]
  },
  {
   "cell_type": "code",
   "execution_count": 2,
   "metadata": {},
   "outputs": [
    {
     "name": "stderr",
     "output_type": "stream",
     "text": [
      "Loading required package: usethis\n",
      "\n",
      "Attaching package: ‘dplyr’\n",
      "\n",
      "The following object is masked from ‘package:kableExtra’:\n",
      "\n",
      "    group_rows\n",
      "\n",
      "The following objects are masked from ‘package:stats’:\n",
      "\n",
      "    filter, lag\n",
      "\n",
      "The following objects are masked from ‘package:base’:\n",
      "\n",
      "    intersect, setdiff, setequal, union\n",
      "\n"
     ]
    }
   ],
   "source": [
    "#load the pakages in R\n",
    "library(devtools)\n",
    "library(easyPubMed)\n",
    "library(rentrez)\n",
    "library(kableExtra)\n",
    "library(dplyr)"
   ]
  },
  {
   "cell_type": "code",
   "execution_count": 3,
   "metadata": {},
   "outputs": [
    {
     "name": "stderr",
     "output_type": "stream",
     "text": [
      "Loading required package: XML\n"
     ]
    }
   ],
   "source": [
    "##load the pakages in R\n",
    "library(\"businessPubMed\")\n",
    "library(\"githubinstall\")"
   ]
  },
  {
   "cell_type": "code",
   "execution_count": 4,
   "metadata": {},
   "outputs": [],
   "source": [
    "#Designing the query for ncbi\n",
    "my.query <- paste('Kenya[Affiliation]')\n",
    "my.query <- paste(my.query, 'AND (\"1980\"[EDAT]:\"2019\"[EDAT])')"
   ]
  },
  {
   "cell_type": "code",
   "execution_count": 5,
   "metadata": {},
   "outputs": [
    {
     "name": "stdout",
     "output_type": "stream",
     "text": [
      "Kenya[Affiliation] AND (\"1980\"[EDAT]:\"2019\"[EDAT])"
     ]
    }
   ],
   "source": [
    "# Show query string\n",
    "cat(my.query)"
   ]
  },
  {
   "cell_type": "code",
   "execution_count": 6,
   "metadata": {},
   "outputs": [
    {
     "name": "stdout",
     "output_type": "stream",
     "text": [
      "(UK)|(AFGHANISTAN)|(ALBANIA)|(ALGERIA)|(ANDORRA)|(ANGOLA)|(ANTIGUA[[:space:]]AND[[:space:]]BARBUDA)|(ARGENTINA)|(ARMENIA)|(AUSTRALIA)|(AUSTRIA)|(AZERBAIJAN)|(BAHAMAS)|(BAHRAIN)|(BANGLADESH)|(BARBADOS)|(BELARUS)|(BELGIUM)|(BELIZE)|(BENIN)|(BHUTAN)|(BOLIVIA)|(BOSNIA[[:space:]]AND[[:space:]]HERZEGOVINA)|(BOTSWANA)|(BRAZIL)|(BRUNEI)|(BULGARIA)|(BURKINA[[:space:]]FASO)|(BURUNDI)|(CABO[[:space:]]VERDE)|(CAMBODIA)|(CAMEROON)|(CANADA)|(CENTRAL[[:space:]]AFRICAN[[:space:]]REPUBLIC)|(CHAD)|(CHILE)|(CHINA)|(COLOMBIA)|(COMOROS)|(CONGO)|(CONGO)|(COSTA[[:space:]]RICA)|(COTE[[:space:]]D[[:punct:]]IVOIRE)|(CROATIA)|(CUBA)|(CYPRUS)|(CZECH[[:space:]]REPUBLIC)|(DENMARK)|(DJIBOUTI)|(DOMINICA)|(DOMINICAN[[:space:]]REPUBLIC)|(ECUADOR)|(EGYPT)|(EL[[:space:]]SALVADOR)|(EQUATORIAL[[:space:]]GUINEA)|(ERITREA)|(ESTONIA)|(ETHIOPIA)|(FIJI)|(FINLAND)|(FRANCE)|(GABON)|(GAMBIA)|(GEORGIA)|(GERMANY)|(GHANA)|(GREECE)|(GRENADA)|(GUATEMALA)|(GUINEA)|(GUINEA[[:punct:]]BISSAU)|(GUYANA)|(HAITI)|(HONDURAS)|(HUNGARY)|(ICELAND)|(INDIA)|(INDONESIA)|(IRAN)|(IRAQ)|(IRELAND)|(ISRAEL)|(ITALY)|(JAMAICA)|(JAPAN)|(JORDAN)|(KAZAKHSTAN)|(KIRIBATI)|(KOSOVO)|(KUWAIT)|(KYRGYZSTAN)|(LAOS)|(LATVIA)|(LEBANON)|(LESOTHO)|(LIBERIA)|(LIBYA)|(LIECHTENSTEIN)|(LITHUANIA)|(LUXEMBOURG)|(MACEDONIA)|(MADAGASCAR)|(MALAWI)|(MALAYSIA)|(MALDIVES)|(MALI)|(MALTA)|(MARSHALL[[:space:]]ISLANDS)|(MAURITANIA)|(MAURITIUS)|(MEXICO)|(MICRONESIA)|(MOLDOVA)|(MONACO)|(MONGOLIA)|(MONTENEGRO)|(MOROCCO)|(MOZAMBIQUE)|(MYANMAR)|(NAMIBIA)|(NAURU)|(NEPAL)|(NETHERLANDS)|(NEW[[:space:]]ZEALAND)|(NICARAGUA)|(NIGER)|(NIGERIA)|(NORTH[[:space:]]KOREA)|(NORWAY)|(OMAN)|(PAKISTAN)|(PALAU)|(PALESTINE)|(PANAMA)|(PAPUA[[:space:]]NEW[[:space:]]GUINEA)|(PARAGUAY)|(PERU)|(PHILIPPINES)|(POLAND)|(PORTUGAL)|(QATAR)|(ROMANIA)|(RUSSIA)|(RWANDA)|(SAINT[[:space:]]KITTS[[:space:]]AND[[:space:]]NEVIS)|(SAINT[[:space:]]LUCIA)|(SAINT[[:space:]]VINCENT[[:space:]]AND[[:space:]]THE[[:space:]]GRENADINES)|(SAMOA)|(SAN[[:space:]]MARINO)|(SAO[[:space:]]TOME[[:space:]]AND[[:space:]]PRINCIPE)|(SAUDI[[:space:]]ARABIA)|(SENEGAL)|(SERBIA)|(SEYCHELLES)|(SIERRA[[:space:]]LEONE)|(SINGAPORE)|(SLOVAKIA)|(SLOVENIA)|(SOLOMON[[:space:]]ISLANDS)|(SOMALIA)|(SOUTH[[:space:]]AFRICA)|(SOUTH[[:space:]]KOREA)|(SOUTH[[:space:]]SUDAN)|(SPAIN)|(SRI[[:space:]]LANKA)|(SUDAN)|(SURINAME)|(SWAZILAND)|(SWEDEN)|(SWITZERLAND)|(SYRIA)|(TAIWAN)|(TAJIKISTAN)|(TANZANIA)|(THAILAND)|(TIMOR[[:punct:]]LESTE)|(TOGO)|(TONGA)|(TRINIDAD[[:space:]]AND[[:space:]]TOBAGO)|(TUNISIA)|(TURKEY)|(TURKMENISTAN)|(TUVALU)|(UGANDA)|(UKRAINE)|(UNITED[[:space:]]ARAB[[:space:]]EMIRATES)|(UNITED[[:space:]]KINGDOM)|(UNITED[[:space:]]STATES[[:space:]]OF[[:space:]]AMERICA)|(URUGUAY)|(UZBEKISTAN)|(VANUATU)|(VATICAN[[:space:]]CITY)|(VENEZUELA)|(VIETNAM)|(YEMEN)|(ZAMBIA)|(ZIMBABWE)"
     ]
    }
   ],
   "source": [
    "# define the regex filter for countries other than kenya \n",
    "data(\"countries\")\n",
    "countries <- countries[countries != \"Kenya\"]\n",
    "countries.filter <- gsub(\"[[:punct:]]\", \"[[:punct:]]\", toupper(countries))\n",
    "countries.filter <- gsub(\" \", \"[[:space:]]\", countries.filter)\n",
    "countries.filter <- paste(\"(\",countries.filter,\")\", sep = \"\", collapse = \"|\")\n",
    "countries.filter <- paste(\"(UK)|\", countries.filter, sep = \"\")\n",
    "cat(countries.filter)"
   ]
  },
  {
   "cell_type": "code",
   "execution_count": 7,
   "metadata": {
    "scrolled": true
   },
   "outputs": [
    {
     "name": "stdout",
     "output_type": "stream",
     "text": [
      "(UK)|(AFGHANISTAN)|(ALBANIA)|(ALGERIA)|(ANDORRA)|(ANGOLA)|(ANTIGUA[[:space:]]AND[[:sp..."
     ]
    }
   ],
   "source": [
    "# Show filter string\n",
    "cat(paste(substr(countries.filter, 1, 85), \"...\", sep = \"\"))"
   ]
  },
  {
   "cell_type": "markdown",
   "metadata": {},
   "source": [
    "# Extract relevant summary data for the papers and save to file\n",
    "The function was extracted from [businesspubmed](https://github.com/dami82/businessPubMed) to retrieve the various information such as \"title\", \"year\", \"journal\", \"lastname\", \"firstname\", \"address\", \"email\", \"pmid\", \"month\",\"day\" from our query"
   ]
  },
  {
   "cell_type": "code",
   "execution_count": 8,
   "metadata": {},
   "outputs": [],
   "source": [
    "#function for extracting pubmed information\n",
    "extract_pubMed_data <- function (pubMed_query, \n",
    "                                 batch_size = 1000, \n",
    "                                 getKeywords = FALSE, \n",
    "                                 affi_regex_exclude = NULL) \n",
    "{\n",
    "  ptm <- proc.time()\n",
    "  my.idlist <- get_pubmed_ids(pubMed_query)\n",
    "  record.num <- my.idlist$Count\n",
    "  my.seq <- seq(1, as.numeric(my.idlist$Count), by = batch_size)\n",
    "  pubmed.data <- lapply(my.seq, (function(ret.start) {\n",
    "    batch.xml <- NULL\n",
    "    message(paste(\"round #\", which(my.seq == ret.start), \n",
    "                  \" of \", length(my.seq), \" \", sep = \"\"), appendLF = FALSE)\n",
    "    while (is.null(batch.xml)) {\n",
    "      batch.xml <- tryCatch({\n",
    "        tmp.idlist <- get_pubmed_ids(pubMed_query)\n",
    "        fetch_pubmed_data(tmp.idlist, retstart = ret.start, \n",
    "                          retmax = batch_size)\n",
    "      }, error = function(e) {\n",
    "        NULL\n",
    "      })\n",
    "    }\n",
    "    record.list <- easyPubMed::articles_to_list(batch.xml)\n",
    "    xtracted.data <- lapply(1:length(record.list), (function(i) {\n",
    "      if (length(record.list) > 60) {\n",
    "        custom.seq <- as.integer(seq(1, length(record.list), \n",
    "                                     length.out = 50))\n",
    "        if (i %in% custom.seq) {\n",
    "          message(\".\", appendLF = FALSE)\n",
    "        }\n",
    "      } else {\n",
    "        message(\".\", appendLF = FALSE)\n",
    "      }\n",
    "      if (as.numeric(installed.packages()[\"easyPubMed\",\"Version\"]) > 2.5){\n",
    "        tmp.record <- tryCatch(article_to_df(pubmedArticle = record.list[[i]], \n",
    "                                             getKeywords = getKeywords, \n",
    "                                             autofill = TRUE, max_chars = 10), \n",
    "                               error = function(e) {\n",
    "                                 NULL\n",
    "                               })\n",
    "        required.cols <- c(\"title\", \"year\", \"journal\", \n",
    "                           \"lastname\", \"firstname\", \"address\", \"email\", \"pmid\", \"month\",\"day\")\n",
    "        \n",
    "        \n",
    "      } else {\n",
    "        tmp.record <- tryCatch(article_to_df(pubmedArticle = record.list[[i]], \n",
    "                                             autofill = TRUE, max_chars = 10), \n",
    "                               error = function(e) {\n",
    "                                 NULL\n",
    "                               })\n",
    "        required.cols <- c(\"title\", \"year\", \"journal\", \n",
    "                           \"lastname\", \"firstname\", \"address\", \"email\",\"pmid\", \"month\", \"day\")\n",
    "        \n",
    "      }\n",
    "      \n",
    "      if (!is.null(tmp.record)) {\n",
    "        out.record <- data.frame(matrix(NA, nrow = nrow(tmp.record), \n",
    "                                        ncol = length(required.cols)))\n",
    "        colnames(out.record) <- required.cols\n",
    "        match.cols <- colnames(tmp.record)[colnames(tmp.record) %in% \n",
    "                                             required.cols]\n",
    "        out.record[, match.cols] <- tmp.record[, match.cols]\n",
    "      } else {\n",
    "        out.record <- NULL\n",
    "      }\n",
    "      out.record\n",
    "    }))\n",
    "    xtracted.data <- do.call(rbind, xtracted.data)\n",
    "    message(\" Filtering... \", appendLF = FALSE)\n",
    "    xtracted.data <- xtracted.data[!is.na(xtracted.data$address), \n",
    "                                   ]\n",
    "    if (!is.null(affi_regex_exclude)) {\n",
    "      xtracted.data <- xtracted.data[regexpr(affi_regex_exclude, \n",
    "                                             xtracted.data$address,\n",
    "                                             ignore.case = TRUE) < 0, ]\n",
    "    }\n",
    "    message(\"done!\", appendLF = TRUE)\n",
    "    xtracted.data\n",
    "  }))\n",
    "  stop.watch <- proc.time() - ptm\n",
    "  pubmed.data <- do.call(rbind, pubmed.data)\n",
    "  out.data <- list()\n",
    "  out.data$params <- list()\n",
    "  out.data$params$query_string <- pubMed_query\n",
    "  out.data$params$pubMed_id_list <- my.idlist\n",
    "  out.data$params$batch_size <- batch_size\n",
    "  out.data$params$affi_regex_exclude <- affi_regex_exclude\n",
    "  out.data$params$timing <- stop.watch\n",
    "  out.data$data <- pubmed.data\n",
    "  return(out.data)\n",
    "}"
   ]
  },
  {
   "cell_type": "markdown",
   "metadata": {},
   "source": [
    "we used the function *extract_pubMed_data* to gain the summary of the data using the regrex expression designed to filter out countries that are not kenyans "
   ]
  },
  {
   "cell_type": "code",
   "execution_count": 9,
   "metadata": {},
   "outputs": [
    {
     "name": "stderr",
     "output_type": "stream",
     "text": [
      "round #1 of 17 .................................................. Filtering... done!\n",
      "round #2 of 17 .................................................. Filtering... done!\n",
      "round #3 of 17 .................................................. Filtering... done!\n",
      "round #4 of 17 .................................................. Filtering... done!\n",
      "round #5 of 17 .................................................. Filtering... done!\n",
      "round #6 of 17 .................................................. Filtering... done!\n",
      "round #7 of 17 .................................................. Filtering... done!\n",
      "round #8 of 17 .................................................. Filtering... done!\n",
      "round #9 of 17 .................................................. Filtering... done!\n",
      "round #10 of 17 .................................................. Filtering... done!\n",
      "round #11 of 17 .................................................. Filtering... done!\n",
      "round #12 of 17 .................................................. Filtering... done!\n",
      "round #13 of 17 .................................................. Filtering... done!\n",
      "round #14 of 17 .................................................. Filtering... done!\n",
      "round #15 of 17 .................................................. Filtering... done!\n",
      "round #16 of 17 .................................................. Filtering... done!\n",
      "round #17 of 17 .......... Filtering... done!\n"
     ]
    }
   ],
   "source": [
    "#intial time \n",
    "t_init <- Sys.time()\n",
    "\n",
    "#extract data from PubMed\n",
    "my.data3 <- extract_pubMed_data(pubMed_query = my.query, \n",
    "                                batch_size = 1000,\n",
    "                                affi_regex_exclude = countries.filter)\n",
    "# Check time t_final\n",
    "t_final <- Sys.time()"
   ]
  },
  {
   "cell_type": "markdown",
   "metadata": {},
   "source": [
    "The time taken for the code to run "
   ]
  },
  {
   "cell_type": "code",
   "execution_count": 11,
   "metadata": {
    "scrolled": true
   },
   "outputs": [
    {
     "data": {
      "text/plain": [
       "Time difference of 1.478131 hours"
      ]
     },
     "metadata": {},
     "output_type": "display_data"
    }
   ],
   "source": [
    "# processing time \n",
    "t_final -t_init"
   ]
  },
  {
   "cell_type": "code",
   "execution_count": 12,
   "metadata": {},
   "outputs": [
    {
     "data": {
      "text/html": [
       "<table>\n",
       "<thead><tr><th></th><th scope=col>title</th><th scope=col>year</th><th scope=col>journal</th><th scope=col>lastname</th><th scope=col>firstname</th><th scope=col>address</th><th scope=col>email</th><th scope=col>pmid</th><th scope=col>month</th><th scope=col>day</th></tr></thead>\n",
       "<tbody>\n",
       "\t<tr><th scope=row>1</th><td>Current Trends of Nanobiosensors for Point-of-Care Diagnostics.                                                                                                                                                                                                                                                                                             </td><td>2019                                                                                                                                                                                                                                                                                                                                                        </td><td>Journal of analytical methods in chemistry                                                                                                                                                                                                                                                                                                                  </td><td>Noah                                                                                                                                                                                                                                                                                                                                                        </td><td>Naumih M                                                                                                                                                                                                                                                                                                                                                    </td><td>School of Pharmacy and Health Sciences, United States International University-Africa, P.O. Box 14634-00800, Nairobi, Kenya                                                                                                                                                                                                                                 </td><td>NA                                                                                                                                                                                                                                                                                                                                                          </td><td>31886019                                                                                                                                                                                                                                                                                                                                                    </td><td>1                                                                                                                                                                                                                                                                                                                                                           </td><td>1                                                                                                                                                                                                                                                                                                                                                           </td></tr>\n",
       "\t<tr><th scope=row>2</th><td>Current Trends of Nanobiosensors for Point-of-Care Diagnostics.                                                                                                                                                                                                                                                                                             </td><td>2019                                                                                                                                                                                                                                                                                                                                                        </td><td>Journal of analytical methods in chemistry                                                                                                                                                                                                                                                                                                                  </td><td>Ndangili                                                                                                                                                                                                                                                                                                                                                    </td><td>Peter M                                                                                                                                                                                                                                                                                                                                                     </td><td>Department of Chemical Science and Technology (DCST), Technical University of Kenya, P.O. Box 52428-00200, Nairobi, Kenya                                                                                                                                                                                                                                   </td><td>NA                                                                                                                                                                                                                                                                                                                                                          </td><td>31886019                                                                                                                                                                                                                                                                                                                                                    </td><td>1                                                                                                                                                                                                                                                                                                                                                           </td><td>1                                                                                                                                                                                                                                                                                                                                                           </td></tr>\n",
       "\t<tr><th scope=row>3</th><td>Efficacy of Ivermectin, Liquid Paraffin, and Carbaryl against Mange of Farmed Rabbits in Central Kenya.                                                                                                                                                                                                                                                     </td><td>2019                                                                                                                                                                                                                                                                                                                                                        </td><td>Journal of tropical medicine                                                                                                                                                                                                                                                                                                                                </td><td>Ogolla                                                                                                                                                                                                                                                                                                                                                      </td><td>Kennedy O                                                                                                                                                                                                                                                                                                                                                   </td><td>Department of Veterinary Pathology, Microbiology and Parasitology, University of Nairobi, P.O. Box 29053-00625, Kangemi, Nairobi, Kenya                                                                                                                                                                                                                     </td><td>NA                                                                                                                                                                                                                                                                                                                                                          </td><td>31885634                                                                                                                                                                                                                                                                                                                                                    </td><td>1                                                                                                                                                                                                                                                                                                                                                           </td><td>1                                                                                                                                                                                                                                                                                                                                                           </td></tr>\n",
       "\t<tr><th scope=row>4</th><td>Efficacy of Ivermectin, Liquid Paraffin, and Carbaryl against Mange of Farmed Rabbits in Central Kenya.                                                                                                                                                                                                                                                     </td><td>2019                                                                                                                                                                                                                                                                                                                                                        </td><td>Journal of tropical medicine                                                                                                                                                                                                                                                                                                                                </td><td>Chebet                                                                                                                                                                                                                                                                                                                                                      </td><td>Joyce                                                                                                                                                                                                                                                                                                                                                       </td><td>Department of Veterinary Pathology, Microbiology and Parasitology, University of Nairobi, P.O. Box 29053-00625, Kangemi, Nairobi, Kenya                                                                                                                                                                                                                     </td><td>NA                                                                                                                                                                                                                                                                                                                                                          </td><td>31885634                                                                                                                                                                                                                                                                                                                                                    </td><td>1                                                                                                                                                                                                                                                                                                                                                           </td><td>1                                                                                                                                                                                                                                                                                                                                                           </td></tr>\n",
       "\t<tr><th scope=row>5</th><td>Efficacy of Ivermectin, Liquid Paraffin, and Carbaryl against Mange of Farmed Rabbits in Central Kenya.                                                                                                                                                                                                                                                     </td><td>2019                                                                                                                                                                                                                                                                                                                                                        </td><td>Journal of tropical medicine                                                                                                                                                                                                                                                                                                                                </td><td>Waruiru                                                                                                                                                                                                                                                                                                                                                     </td><td>Robert M                                                                                                                                                                                                                                                                                                                                                    </td><td>Department of Veterinary Pathology, Microbiology and Parasitology, University of Nairobi, P.O. Box 29053-00625, Kangemi, Nairobi, Kenya                                                                                                                                                                                                                     </td><td>NA                                                                                                                                                                                                                                                                                                                                                          </td><td>31885634                                                                                                                                                                                                                                                                                                                                                    </td><td>1                                                                                                                                                                                                                                                                                                                                                           </td><td>1                                                                                                                                                                                                                                                                                                                                                           </td></tr>\n",
       "\t<tr><th scope=row>6</th><td>Efficacy of Ivermectin, Liquid Paraffin, and Carbaryl against Mange of Farmed Rabbits in Central Kenya.                                                                                                                                                                                                                                                     </td><td>2019                                                                                                                                                                                                                                                                                                                                                        </td><td>Journal of tropical medicine                                                                                                                                                                                                                                                                                                                                </td><td>Gathumbi                                                                                                                                                                                                                                                                                                                                                    </td><td>Peter K                                                                                                                                                                                                                                                                                                                                                     </td><td>Department of Veterinary Pathology, Microbiology and Parasitology, University of Nairobi, P.O. Box 29053-00625, Kangemi, Nairobi, Kenya                                                                                                                                                                                                                     </td><td>NA                                                                                                                                                                                                                                                                                                                                                          </td><td>31885634                                                                                                                                                                                                                                                                                                                                                    </td><td>1                                                                                                                                                                                                                                                                                                                                                           </td><td>1                                                                                                                                                                                                                                                                                                                                                           </td></tr>\n",
       "\t<tr><th scope=row>7</th><td>Efficacy of Ivermectin, Liquid Paraffin, and Carbaryl against Mange of Farmed Rabbits in Central Kenya.                                                                                                                                                                                                                                                     </td><td>2019                                                                                                                                                                                                                                                                                                                                                        </td><td>Journal of tropical medicine                                                                                                                                                                                                                                                                                                                                </td><td>Okumu                                                                                                                                                                                                                                                                                                                                                       </td><td>Paul O                                                                                                                                                                                                                                                                                                                                                      </td><td>Department of Veterinary Pathology, Microbiology and Parasitology, University of Nairobi, P.O. Box 29053-00625, Kangemi, Nairobi, Kenya                                                                                                                                                                                                                     </td><td>NA                                                                                                                                                                                                                                                                                                                                                          </td><td>31885634                                                                                                                                                                                                                                                                                                                                                    </td><td>1                                                                                                                                                                                                                                                                                                                                                           </td><td>1                                                                                                                                                                                                                                                                                                                                                           </td></tr>\n",
       "\t<tr><th scope=row>8</th><td>Efficacy of Ivermectin, Liquid Paraffin, and Carbaryl against Mange of Farmed Rabbits in Central Kenya.                                                                                                                                                                                                                                                     </td><td>2019                                                                                                                                                                                                                                                                                                                                                        </td><td>Journal of tropical medicine                                                                                                                                                                                                                                                                                                                                </td><td>Aboge                                                                                                                                                                                                                                                                                                                                                       </td><td>Gabriel O                                                                                                                                                                                                                                                                                                                                                   </td><td>Department of Public Health, Pharmacology and Toxicology, University of Nairobi, P.O. Box 29053-00625, Kangemi, Nairobi, Kenya                                                                                                                                                                                                                              </td><td>NA                                                                                                                                                                                                                                                                                                                                                          </td><td>31885634                                                                                                                                                                                                                                                                                                                                                    </td><td>1                                                                                                                                                                                                                                                                                                                                                           </td><td>1                                                                                                                                                                                                                                                                                                                                                           </td></tr>\n",
       "\t<tr><th scope=row>12</th><td><span style=white-space:pre-wrap>UHC2030's Contributions to Global Health Governance that Advance the Right to Health Care: A Preliminary Assessment.                                                                                                                                                                                                                                        </span></td><td>2019                                                                                                                                                                                                                                                                                                                                                                                                </td><td><span style=white-space:pre-wrap>Health and human rights                   </span>                                                                                                                                                                                                                                                                                                                  </td><td>Maleche                                                                                                                                                                                                                                                                                                                                                                                             </td><td><span style=white-space:pre-wrap>Allan    </span>                                                                                                                                                                                                                                                                                                                                                   </td><td>Executive Director of the Kenya Legal &amp; Ethical Issues Network on HIV &amp; AIDS (KELIN), and a member of the UNAIDS Human Rights Reference Group on HIV and Human Rights. is executive director of the Kenya Legal &amp; Ethical Issues Network on HIV &amp; AIDS (KELIN), Nairobi, Kenya                                                                                                      </td><td>NA                                                                                                                                                                                                                                                                                                                                                                                                  </td><td>31885453                                                                                                                                                                                                                                                                                                                                                                                            </td><td>12                                                                                                                                                                                                                                                                                                                                                                                                  </td><td>1                                                                                                                                                                                                                                                                                                                                                                                                   </td></tr>\n",
       "\t<tr><th scope=row>13</th><td>Implementation research for public sector mental health care scale-up (SMART-DAPPER): a sequential multiple, assignment randomized trial (SMART) of non-specialist-delivered psychotherapy and/or medication for major depressive disorder and posttraumatic stress disorder (DAPPER) integrated with outpatient care clinics at a county hospital in Kenya.</td><td>2019                                                                                                                                                                                                                                                                                                                                                        </td><td>BMC psychiatry                                                                                                                                                                                                                                                                                                                                              </td><td>Levy                                                                                                                                                                                                                                                                                                                                                        </td><td>Rachel                                                                                                                                                                                                                                                                                                                                                      </td><td>Medical School, University of California, San Francisco, CA, USA                                                                                                                                                                                                                                                                                            </td><td>NA                                                                                                                                                                                                                                                                                                                                                          </td><td>31883526                                                                                                                                                                                                                                                                                                                                                    </td><td>12                                                                                                                                                                                                                                                                                                                                                          </td><td>28                                                                                                                                                                                                                                                                                                                                                          </td></tr>\n",
       "</tbody>\n",
       "</table>\n"
      ],
      "text/latex": [
       "\\begin{tabular}{r|llllllllll}\n",
       "  & title & year & journal & lastname & firstname & address & email & pmid & month & day\\\\\n",
       "\\hline\n",
       "\t1 & Current Trends of Nanobiosensors for Point-of-Care Diagnostics.                                                                                                                                                                                                                                                                                              & 2019                                                                                                                                                                                                                                                                                                                                                         & Journal of analytical methods in chemistry                                                                                                                                                                                                                                                                                                                   & Noah                                                                                                                                                                                                                                                                                                                                                         & Naumih M                                                                                                                                                                                                                                                                                                                                                     & School of Pharmacy and Health Sciences, United States International University-Africa, P.O. Box 14634-00800, Nairobi, Kenya                                                                                                                                                                                                                                  & NA                                                                                                                                                                                                                                                                                                                                                           & 31886019                                                                                                                                                                                                                                                                                                                                                     & 1                                                                                                                                                                                                                                                                                                                                                            & 1                                                                                                                                                                                                                                                                                                                                                           \\\\\n",
       "\t2 & Current Trends of Nanobiosensors for Point-of-Care Diagnostics.                                                                                                                                                                                                                                                                                              & 2019                                                                                                                                                                                                                                                                                                                                                         & Journal of analytical methods in chemistry                                                                                                                                                                                                                                                                                                                   & Ndangili                                                                                                                                                                                                                                                                                                                                                     & Peter M                                                                                                                                                                                                                                                                                                                                                      & Department of Chemical Science and Technology (DCST), Technical University of Kenya, P.O. Box 52428-00200, Nairobi, Kenya                                                                                                                                                                                                                                    & NA                                                                                                                                                                                                                                                                                                                                                           & 31886019                                                                                                                                                                                                                                                                                                                                                     & 1                                                                                                                                                                                                                                                                                                                                                            & 1                                                                                                                                                                                                                                                                                                                                                           \\\\\n",
       "\t3 & Efficacy of Ivermectin, Liquid Paraffin, and Carbaryl against Mange of Farmed Rabbits in Central Kenya.                                                                                                                                                                                                                                                      & 2019                                                                                                                                                                                                                                                                                                                                                         & Journal of tropical medicine                                                                                                                                                                                                                                                                                                                                 & Ogolla                                                                                                                                                                                                                                                                                                                                                       & Kennedy O                                                                                                                                                                                                                                                                                                                                                    & Department of Veterinary Pathology, Microbiology and Parasitology, University of Nairobi, P.O. Box 29053-00625, Kangemi, Nairobi, Kenya                                                                                                                                                                                                                      & NA                                                                                                                                                                                                                                                                                                                                                           & 31885634                                                                                                                                                                                                                                                                                                                                                     & 1                                                                                                                                                                                                                                                                                                                                                            & 1                                                                                                                                                                                                                                                                                                                                                           \\\\\n",
       "\t4 & Efficacy of Ivermectin, Liquid Paraffin, and Carbaryl against Mange of Farmed Rabbits in Central Kenya.                                                                                                                                                                                                                                                      & 2019                                                                                                                                                                                                                                                                                                                                                         & Journal of tropical medicine                                                                                                                                                                                                                                                                                                                                 & Chebet                                                                                                                                                                                                                                                                                                                                                       & Joyce                                                                                                                                                                                                                                                                                                                                                        & Department of Veterinary Pathology, Microbiology and Parasitology, University of Nairobi, P.O. Box 29053-00625, Kangemi, Nairobi, Kenya                                                                                                                                                                                                                      & NA                                                                                                                                                                                                                                                                                                                                                           & 31885634                                                                                                                                                                                                                                                                                                                                                     & 1                                                                                                                                                                                                                                                                                                                                                            & 1                                                                                                                                                                                                                                                                                                                                                           \\\\\n",
       "\t5 & Efficacy of Ivermectin, Liquid Paraffin, and Carbaryl against Mange of Farmed Rabbits in Central Kenya.                                                                                                                                                                                                                                                      & 2019                                                                                                                                                                                                                                                                                                                                                         & Journal of tropical medicine                                                                                                                                                                                                                                                                                                                                 & Waruiru                                                                                                                                                                                                                                                                                                                                                      & Robert M                                                                                                                                                                                                                                                                                                                                                     & Department of Veterinary Pathology, Microbiology and Parasitology, University of Nairobi, P.O. Box 29053-00625, Kangemi, Nairobi, Kenya                                                                                                                                                                                                                      & NA                                                                                                                                                                                                                                                                                                                                                           & 31885634                                                                                                                                                                                                                                                                                                                                                     & 1                                                                                                                                                                                                                                                                                                                                                            & 1                                                                                                                                                                                                                                                                                                                                                           \\\\\n",
       "\t6 & Efficacy of Ivermectin, Liquid Paraffin, and Carbaryl against Mange of Farmed Rabbits in Central Kenya.                                                                                                                                                                                                                                                      & 2019                                                                                                                                                                                                                                                                                                                                                         & Journal of tropical medicine                                                                                                                                                                                                                                                                                                                                 & Gathumbi                                                                                                                                                                                                                                                                                                                                                     & Peter K                                                                                                                                                                                                                                                                                                                                                      & Department of Veterinary Pathology, Microbiology and Parasitology, University of Nairobi, P.O. Box 29053-00625, Kangemi, Nairobi, Kenya                                                                                                                                                                                                                      & NA                                                                                                                                                                                                                                                                                                                                                           & 31885634                                                                                                                                                                                                                                                                                                                                                     & 1                                                                                                                                                                                                                                                                                                                                                            & 1                                                                                                                                                                                                                                                                                                                                                           \\\\\n",
       "\t7 & Efficacy of Ivermectin, Liquid Paraffin, and Carbaryl against Mange of Farmed Rabbits in Central Kenya.                                                                                                                                                                                                                                                      & 2019                                                                                                                                                                                                                                                                                                                                                         & Journal of tropical medicine                                                                                                                                                                                                                                                                                                                                 & Okumu                                                                                                                                                                                                                                                                                                                                                        & Paul O                                                                                                                                                                                                                                                                                                                                                       & Department of Veterinary Pathology, Microbiology and Parasitology, University of Nairobi, P.O. Box 29053-00625, Kangemi, Nairobi, Kenya                                                                                                                                                                                                                      & NA                                                                                                                                                                                                                                                                                                                                                           & 31885634                                                                                                                                                                                                                                                                                                                                                     & 1                                                                                                                                                                                                                                                                                                                                                            & 1                                                                                                                                                                                                                                                                                                                                                           \\\\\n",
       "\t8 & Efficacy of Ivermectin, Liquid Paraffin, and Carbaryl against Mange of Farmed Rabbits in Central Kenya.                                                                                                                                                                                                                                                      & 2019                                                                                                                                                                                                                                                                                                                                                         & Journal of tropical medicine                                                                                                                                                                                                                                                                                                                                 & Aboge                                                                                                                                                                                                                                                                                                                                                        & Gabriel O                                                                                                                                                                                                                                                                                                                                                    & Department of Public Health, Pharmacology and Toxicology, University of Nairobi, P.O. Box 29053-00625, Kangemi, Nairobi, Kenya                                                                                                                                                                                                                               & NA                                                                                                                                                                                                                                                                                                                                                           & 31885634                                                                                                                                                                                                                                                                                                                                                     & 1                                                                                                                                                                                                                                                                                                                                                            & 1                                                                                                                                                                                                                                                                                                                                                           \\\\\n",
       "\t12 & UHC2030's Contributions to Global Health Governance that Advance the Right to Health Care: A Preliminary Assessment.                                                                                                                                                                                                                                         & 2019                                                                                                                                                                                                                                                                                                                                                         & Health and human rights                                                                                                                                                                                                                                                                                                                                      & Maleche                                                                                                                                                                                                                                                                                                                                                      & Allan                                                                                                                                                                                                                                                                                                                                                        & Executive Director of the Kenya Legal \\& Ethical Issues Network on HIV \\& AIDS (KELIN), and a member of the UNAIDS Human Rights Reference Group on HIV and Human Rights. is executive director of the Kenya Legal \\& Ethical Issues Network on HIV \\& AIDS (KELIN), Nairobi, Kenya                                                                       & NA                                                                                                                                                                                                                                                                                                                                                           & 31885453                                                                                                                                                                                                                                                                                                                                                     & 12                                                                                                                                                                                                                                                                                                                                                           & 1                                                                                                                                                                                                                                                                                                                                                           \\\\\n",
       "\t13 & Implementation research for public sector mental health care scale-up (SMART-DAPPER): a sequential multiple, assignment randomized trial (SMART) of non-specialist-delivered psychotherapy and/or medication for major depressive disorder and posttraumatic stress disorder (DAPPER) integrated with outpatient care clinics at a county hospital in Kenya. & 2019                                                                                                                                                                                                                                                                                                                                                         & BMC psychiatry                                                                                                                                                                                                                                                                                                                                               & Levy                                                                                                                                                                                                                                                                                                                                                         & Rachel                                                                                                                                                                                                                                                                                                                                                       & Medical School, University of California, San Francisco, CA, USA                                                                                                                                                                                                                                                                                             & NA                                                                                                                                                                                                                                                                                                                                                           & 31883526                                                                                                                                                                                                                                                                                                                                                     & 12                                                                                                                                                                                                                                                                                                                                                           & 28                                                                                                                                                                                                                                                                                                                                                          \\\\\n",
       "\\end{tabular}\n"
      ],
      "text/markdown": [
       "\n",
       "| <!--/--> | title | year | journal | lastname | firstname | address | email | pmid | month | day | \n",
       "|---|---|---|---|---|---|---|---|---|---|\n",
       "| 1 | Current Trends of Nanobiosensors for Point-of-Care Diagnostics.                                                                                                                                                                                                                                                                                              | 2019                                                                                                                                                                                                                                                                                                                                                         | Journal of analytical methods in chemistry                                                                                                                                                                                                                                                                                                                   | Noah                                                                                                                                                                                                                                                                                                                                                         | Naumih M                                                                                                                                                                                                                                                                                                                                                     | School of Pharmacy and Health Sciences, United States International University-Africa, P.O. Box 14634-00800, Nairobi, Kenya                                                                                                                                                                                                                                  | NA                                                                                                                                                                                                                                                                                                                                                           | 31886019                                                                                                                                                                                                                                                                                                                                                     | 1                                                                                                                                                                                                                                                                                                                                                            | 1                                                                                                                                                                                                                                                                                                                                                            | \n",
       "| 2 | Current Trends of Nanobiosensors for Point-of-Care Diagnostics.                                                                                                                                                                                                                                                                                              | 2019                                                                                                                                                                                                                                                                                                                                                         | Journal of analytical methods in chemistry                                                                                                                                                                                                                                                                                                                   | Ndangili                                                                                                                                                                                                                                                                                                                                                     | Peter M                                                                                                                                                                                                                                                                                                                                                      | Department of Chemical Science and Technology (DCST), Technical University of Kenya, P.O. Box 52428-00200, Nairobi, Kenya                                                                                                                                                                                                                                    | NA                                                                                                                                                                                                                                                                                                                                                           | 31886019                                                                                                                                                                                                                                                                                                                                                     | 1                                                                                                                                                                                                                                                                                                                                                            | 1                                                                                                                                                                                                                                                                                                                                                            | \n",
       "| 3 | Efficacy of Ivermectin, Liquid Paraffin, and Carbaryl against Mange of Farmed Rabbits in Central Kenya.                                                                                                                                                                                                                                                      | 2019                                                                                                                                                                                                                                                                                                                                                         | Journal of tropical medicine                                                                                                                                                                                                                                                                                                                                 | Ogolla                                                                                                                                                                                                                                                                                                                                                       | Kennedy O                                                                                                                                                                                                                                                                                                                                                    | Department of Veterinary Pathology, Microbiology and Parasitology, University of Nairobi, P.O. Box 29053-00625, Kangemi, Nairobi, Kenya                                                                                                                                                                                                                      | NA                                                                                                                                                                                                                                                                                                                                                           | 31885634                                                                                                                                                                                                                                                                                                                                                     | 1                                                                                                                                                                                                                                                                                                                                                            | 1                                                                                                                                                                                                                                                                                                                                                            | \n",
       "| 4 | Efficacy of Ivermectin, Liquid Paraffin, and Carbaryl against Mange of Farmed Rabbits in Central Kenya.                                                                                                                                                                                                                                                      | 2019                                                                                                                                                                                                                                                                                                                                                         | Journal of tropical medicine                                                                                                                                                                                                                                                                                                                                 | Chebet                                                                                                                                                                                                                                                                                                                                                       | Joyce                                                                                                                                                                                                                                                                                                                                                        | Department of Veterinary Pathology, Microbiology and Parasitology, University of Nairobi, P.O. Box 29053-00625, Kangemi, Nairobi, Kenya                                                                                                                                                                                                                      | NA                                                                                                                                                                                                                                                                                                                                                           | 31885634                                                                                                                                                                                                                                                                                                                                                     | 1                                                                                                                                                                                                                                                                                                                                                            | 1                                                                                                                                                                                                                                                                                                                                                            | \n",
       "| 5 | Efficacy of Ivermectin, Liquid Paraffin, and Carbaryl against Mange of Farmed Rabbits in Central Kenya.                                                                                                                                                                                                                                                      | 2019                                                                                                                                                                                                                                                                                                                                                         | Journal of tropical medicine                                                                                                                                                                                                                                                                                                                                 | Waruiru                                                                                                                                                                                                                                                                                                                                                      | Robert M                                                                                                                                                                                                                                                                                                                                                     | Department of Veterinary Pathology, Microbiology and Parasitology, University of Nairobi, P.O. Box 29053-00625, Kangemi, Nairobi, Kenya                                                                                                                                                                                                                      | NA                                                                                                                                                                                                                                                                                                                                                           | 31885634                                                                                                                                                                                                                                                                                                                                                     | 1                                                                                                                                                                                                                                                                                                                                                            | 1                                                                                                                                                                                                                                                                                                                                                            | \n",
       "| 6 | Efficacy of Ivermectin, Liquid Paraffin, and Carbaryl against Mange of Farmed Rabbits in Central Kenya.                                                                                                                                                                                                                                                      | 2019                                                                                                                                                                                                                                                                                                                                                         | Journal of tropical medicine                                                                                                                                                                                                                                                                                                                                 | Gathumbi                                                                                                                                                                                                                                                                                                                                                     | Peter K                                                                                                                                                                                                                                                                                                                                                      | Department of Veterinary Pathology, Microbiology and Parasitology, University of Nairobi, P.O. Box 29053-00625, Kangemi, Nairobi, Kenya                                                                                                                                                                                                                      | NA                                                                                                                                                                                                                                                                                                                                                           | 31885634                                                                                                                                                                                                                                                                                                                                                     | 1                                                                                                                                                                                                                                                                                                                                                            | 1                                                                                                                                                                                                                                                                                                                                                            | \n",
       "| 7 | Efficacy of Ivermectin, Liquid Paraffin, and Carbaryl against Mange of Farmed Rabbits in Central Kenya.                                                                                                                                                                                                                                                      | 2019                                                                                                                                                                                                                                                                                                                                                         | Journal of tropical medicine                                                                                                                                                                                                                                                                                                                                 | Okumu                                                                                                                                                                                                                                                                                                                                                        | Paul O                                                                                                                                                                                                                                                                                                                                                       | Department of Veterinary Pathology, Microbiology and Parasitology, University of Nairobi, P.O. Box 29053-00625, Kangemi, Nairobi, Kenya                                                                                                                                                                                                                      | NA                                                                                                                                                                                                                                                                                                                                                           | 31885634                                                                                                                                                                                                                                                                                                                                                     | 1                                                                                                                                                                                                                                                                                                                                                            | 1                                                                                                                                                                                                                                                                                                                                                            | \n",
       "| 8 | Efficacy of Ivermectin, Liquid Paraffin, and Carbaryl against Mange of Farmed Rabbits in Central Kenya.                                                                                                                                                                                                                                                      | 2019                                                                                                                                                                                                                                                                                                                                                         | Journal of tropical medicine                                                                                                                                                                                                                                                                                                                                 | Aboge                                                                                                                                                                                                                                                                                                                                                        | Gabriel O                                                                                                                                                                                                                                                                                                                                                    | Department of Public Health, Pharmacology and Toxicology, University of Nairobi, P.O. Box 29053-00625, Kangemi, Nairobi, Kenya                                                                                                                                                                                                                               | NA                                                                                                                                                                                                                                                                                                                                                           | 31885634                                                                                                                                                                                                                                                                                                                                                     | 1                                                                                                                                                                                                                                                                                                                                                            | 1                                                                                                                                                                                                                                                                                                                                                            | \n",
       "| 12 | UHC2030's Contributions to Global Health Governance that Advance the Right to Health Care: A Preliminary Assessment.                                                                                                                                                                                                                                         | 2019                                                                                                                                                                                                                                                                                                                                                         | Health and human rights                                                                                                                                                                                                                                                                                                                                      | Maleche                                                                                                                                                                                                                                                                                                                                                      | Allan                                                                                                                                                                                                                                                                                                                                                        | Executive Director of the Kenya Legal & Ethical Issues Network on HIV & AIDS (KELIN), and a member of the UNAIDS Human Rights Reference Group on HIV and Human Rights. is executive director of the Kenya Legal & Ethical Issues Network on HIV & AIDS (KELIN), Nairobi, Kenya                                                                               | NA                                                                                                                                                                                                                                                                                                                                                           | 31885453                                                                                                                                                                                                                                                                                                                                                     | 12                                                                                                                                                                                                                                                                                                                                                           | 1                                                                                                                                                                                                                                                                                                                                                            | \n",
       "| 13 | Implementation research for public sector mental health care scale-up (SMART-DAPPER): a sequential multiple, assignment randomized trial (SMART) of non-specialist-delivered psychotherapy and/or medication for major depressive disorder and posttraumatic stress disorder (DAPPER) integrated with outpatient care clinics at a county hospital in Kenya. | 2019                                                                                                                                                                                                                                                                                                                                                         | BMC psychiatry                                                                                                                                                                                                                                                                                                                                               | Levy                                                                                                                                                                                                                                                                                                                                                         | Rachel                                                                                                                                                                                                                                                                                                                                                       | Medical School, University of California, San Francisco, CA, USA                                                                                                                                                                                                                                                                                             | NA                                                                                                                                                                                                                                                                                                                                                           | 31883526                                                                                                                                                                                                                                                                                                                                                     | 12                                                                                                                                                                                                                                                                                                                                                           | 28                                                                                                                                                                                                                                                                                                                                                           | \n",
       "\n",
       "\n"
      ],
      "text/plain": [
       "   title                                                                                                                                                                                                                                                                                                                                                       \n",
       "1  Current Trends of Nanobiosensors for Point-of-Care Diagnostics.                                                                                                                                                                                                                                                                                             \n",
       "2  Current Trends of Nanobiosensors for Point-of-Care Diagnostics.                                                                                                                                                                                                                                                                                             \n",
       "3  Efficacy of Ivermectin, Liquid Paraffin, and Carbaryl against Mange of Farmed Rabbits in Central Kenya.                                                                                                                                                                                                                                                     \n",
       "4  Efficacy of Ivermectin, Liquid Paraffin, and Carbaryl against Mange of Farmed Rabbits in Central Kenya.                                                                                                                                                                                                                                                     \n",
       "5  Efficacy of Ivermectin, Liquid Paraffin, and Carbaryl against Mange of Farmed Rabbits in Central Kenya.                                                                                                                                                                                                                                                     \n",
       "6  Efficacy of Ivermectin, Liquid Paraffin, and Carbaryl against Mange of Farmed Rabbits in Central Kenya.                                                                                                                                                                                                                                                     \n",
       "7  Efficacy of Ivermectin, Liquid Paraffin, and Carbaryl against Mange of Farmed Rabbits in Central Kenya.                                                                                                                                                                                                                                                     \n",
       "8  Efficacy of Ivermectin, Liquid Paraffin, and Carbaryl against Mange of Farmed Rabbits in Central Kenya.                                                                                                                                                                                                                                                     \n",
       "12 UHC2030's Contributions to Global Health Governance that Advance the Right to Health Care: A Preliminary Assessment.                                                                                                                                                                                                                                        \n",
       "13 Implementation research for public sector mental health care scale-up (SMART-DAPPER): a sequential multiple, assignment randomized trial (SMART) of non-specialist-delivered psychotherapy and/or medication for major depressive disorder and posttraumatic stress disorder (DAPPER) integrated with outpatient care clinics at a county hospital in Kenya.\n",
       "   year journal                                    lastname firstname\n",
       "1  2019 Journal of analytical methods in chemistry Noah     Naumih M \n",
       "2  2019 Journal of analytical methods in chemistry Ndangili Peter M  \n",
       "3  2019 Journal of tropical medicine               Ogolla   Kennedy O\n",
       "4  2019 Journal of tropical medicine               Chebet   Joyce    \n",
       "5  2019 Journal of tropical medicine               Waruiru  Robert M \n",
       "6  2019 Journal of tropical medicine               Gathumbi Peter K  \n",
       "7  2019 Journal of tropical medicine               Okumu    Paul O   \n",
       "8  2019 Journal of tropical medicine               Aboge    Gabriel O\n",
       "12 2019 Health and human rights                    Maleche  Allan    \n",
       "13 2019 BMC psychiatry                             Levy     Rachel   \n",
       "   address                                                                                                                                                                                                                                                                       \n",
       "1  School of Pharmacy and Health Sciences, United States International University-Africa, P.O. Box 14634-00800, Nairobi, Kenya                                                                                                                                                   \n",
       "2  Department of Chemical Science and Technology (DCST), Technical University of Kenya, P.O. Box 52428-00200, Nairobi, Kenya                                                                                                                                                     \n",
       "3  Department of Veterinary Pathology, Microbiology and Parasitology, University of Nairobi, P.O. Box 29053-00625, Kangemi, Nairobi, Kenya                                                                                                                                       \n",
       "4  Department of Veterinary Pathology, Microbiology and Parasitology, University of Nairobi, P.O. Box 29053-00625, Kangemi, Nairobi, Kenya                                                                                                                                       \n",
       "5  Department of Veterinary Pathology, Microbiology and Parasitology, University of Nairobi, P.O. Box 29053-00625, Kangemi, Nairobi, Kenya                                                                                                                                       \n",
       "6  Department of Veterinary Pathology, Microbiology and Parasitology, University of Nairobi, P.O. Box 29053-00625, Kangemi, Nairobi, Kenya                                                                                                                                       \n",
       "7  Department of Veterinary Pathology, Microbiology and Parasitology, University of Nairobi, P.O. Box 29053-00625, Kangemi, Nairobi, Kenya                                                                                                                                       \n",
       "8  Department of Public Health, Pharmacology and Toxicology, University of Nairobi, P.O. Box 29053-00625, Kangemi, Nairobi, Kenya                                                                                                                                                \n",
       "12 Executive Director of the Kenya Legal & Ethical Issues Network on HIV & AIDS (KELIN), and a member of the UNAIDS Human Rights Reference Group on HIV and Human Rights. is executive director of the Kenya Legal & Ethical Issues Network on HIV & AIDS (KELIN), Nairobi, Kenya\n",
       "13 Medical School, University of California, San Francisco, CA, USA                                                                                                                                                                                                              \n",
       "   email pmid     month day\n",
       "1  NA    31886019 1     1  \n",
       "2  NA    31886019 1     1  \n",
       "3  NA    31885634 1     1  \n",
       "4  NA    31885634 1     1  \n",
       "5  NA    31885634 1     1  \n",
       "6  NA    31885634 1     1  \n",
       "7  NA    31885634 1     1  \n",
       "8  NA    31885634 1     1  \n",
       "12 NA    31885453 12    1  \n",
       "13 NA    31883526 12    28 "
      ]
     },
     "metadata": {},
     "output_type": "display_data"
    }
   ],
   "source": [
    "#few data set acquired \n",
    "head(my.data3$data, 10)"
   ]
  },
  {
   "cell_type": "code",
   "execution_count": 13,
   "metadata": {},
   "outputs": [],
   "source": [
    "# exporting data from the R console to the desktop\n",
    "write.table(my.data3$data, \"../data/Kenyapapers.csv\", row.names=F, sep =\"\\t\")"
   ]
  },
  {
   "cell_type": "code",
   "execution_count": 17,
   "metadata": {},
   "outputs": [
    {
     "name": "stdout",
     "output_type": "stream",
     "text": [
      "bash ../script/extract_pmid.sh"
     ]
    }
   ],
   "source": [
    "#Bash script for extracting pmid\n",
    "x <- \"bash ../script/extract_pmid.sh\"\n",
    "\n",
    "cat(x)"
   ]
  },
  {
   "cell_type": "code",
   "execution_count": 18,
   "metadata": {},
   "outputs": [],
   "source": [
    "#Ran the bash script in R\n",
    "system(x)"
   ]
  },
  {
   "cell_type": "code",
   "execution_count": 19,
   "metadata": {},
   "outputs": [],
   "source": [
    "#importing the pmid id in R\n",
    "Kenya_pmid.csv <- read.csv(\"../data/Kenyapmid.csv\")"
   ]
  },
  {
   "cell_type": "markdown",
   "metadata": {},
   "source": [
    "## The number of papers that have authors affliated to kenyan institutions\n",
    "\n",
    "The data represents the number of Kenya papers that can be retrieved from the ncbi database. Previsously we identified about 13,473 PMID indicating a sharp increase of about 1000 pmid articles "
   ]
  },
  {
   "cell_type": "code",
   "execution_count": 20,
   "metadata": {},
   "outputs": [
    {
     "data": {
      "text/html": [
       "<table>\n",
       "<thead><tr><th scope=col>n</th></tr></thead>\n",
       "<tbody>\n",
       "\t<tr><td>14488</td></tr>\n",
       "</tbody>\n",
       "</table>\n"
      ],
      "text/latex": [
       "\\begin{tabular}{r|l}\n",
       " n\\\\\n",
       "\\hline\n",
       "\t 14488\\\\\n",
       "\\end{tabular}\n"
      ],
      "text/markdown": [
       "\n",
       "n | \n",
       "|---|\n",
       "| 14488 | \n",
       "\n",
       "\n"
      ],
      "text/plain": [
       "  n    \n",
       "1 14488"
      ]
     },
     "metadata": {},
     "output_type": "display_data"
    }
   ],
   "source": [
    "# number of id available\n",
    "count(Kenya_pmid.csv)"
   ]
  },
  {
   "cell_type": "code",
   "execution_count": 21,
   "metadata": {},
   "outputs": [],
   "source": [
    "#DESIGNING FUNCTION \n",
    "#fetch Pmid from entrez\n",
    "fetch_PMID_data <- function(pmids, format = \"xml\", encoding = \"UTF-8\", verbose = TRUE) \n",
    "{\n",
    "  \n",
    "  # Hardcoded\n",
    "  pmids.per.batch = 100\n",
    "  \n",
    "  # custom f(x)\n",
    "  query_and_fetch <- function(x, format = format, encoding = encoding) {\n",
    "    q0 <- paste(paste0(x, \"[PMID]\"), collapse = \" OR \")\n",
    "    \n",
    "    q1 <- easyPubMed::get_pubmed_ids(pubmed_query_string = q0)\n",
    "    r1 <- easyPubMed::fetch_pubmed_data(pubmed_id_list = q1, format = format, encoding = encoding)\n",
    "    r2 <- easyPubMed::articles_to_list(pubmed_data = r1, encoding = encoding, simplify = FALSE)\n",
    "    \n",
    "    nm2 <- lapply(r2, function(xx) { \n",
    "      y <- xx[1]; y <- gsub(\"</PMID>.+$\", \"</PMID>\", y); custom_grep(y, \"PMID\", format = \"list\")[[1]]\n",
    "    })\n",
    "    \n",
    "    \n",
    "    nm2 <- as.character(do.call(c, nm2))\n",
    "    \n",
    "    # Order\n",
    "    nuORD <- as.numeric(sapply(x, function(z) {\n",
    "      which(nm2 == z)\n",
    "    }))      \n",
    "    r3 <- r2[nuORD]\n",
    "    return(r3)\n",
    "  }\n",
    "  \n",
    "  # standardize input\n",
    "  if(is.character(pmids)) {\n",
    "    pmids <- pmids[!is.na(pmids)]\n",
    "  } else if (is.list(pmids)) {\n",
    "    pmids <- do.call(c, pmids)\n",
    "    pmids <- as.character(pmids)\n",
    "    pmids <- pmids[!is.na(pmids)]\n",
    "  }\n",
    "  \n",
    "  # split ID in small batches\n",
    "  out <- list()\n",
    "  ti <- Sys.time() - 2\n",
    "  \n",
    "  if (length(pmids) < pmids.per.batch) {\n",
    "    \n",
    "    out <- list(query_and_fetch(pmids, format = format, encoding = encoding))\n",
    "    \n",
    "  } else {\n",
    "    all_i <- seq(1, (length(pmids) - 1), by = pmids.per.batch)\n",
    "    all_i <- c(all_i, (length(pmids) + 1))\n",
    "    \n",
    "    for(j in 1:(length(all_i) - 1)) {\n",
    "      \n",
    "      if (verbose)\n",
    "        message(\".\", appendLF = FALSE)\n",
    "      \n",
    "      i0 <- all_i[j]\n",
    "      i1 <- (all_i[(j+1)] - 1)\n",
    "      tdf <- as.numeric(difftime(time1 = Sys.time(), time2 =  ti, units = \"sec\"))\n",
    "      \n",
    "      # check time\n",
    "      if (tdf < 1) {\n",
    "        Sys.sleep(time = (1 - tdf))\n",
    "      } \n",
    "      \n",
    "      # generate query string\n",
    "      tmp <- pmids[i0:i1]\n",
    "      tmp2 <- query_and_fetch(x = tmp, format = format, encoding = encoding)\n",
    "      names(tmp2) <- NULL\n",
    "      \n",
    "      ti <- Sys.time()\n",
    "      out[[length(out) + 1]] <- tmp2\n",
    "    }\n",
    "  }\n",
    "  \n",
    "  # loop over and recompose\n",
    "  OUT <- list()\n",
    "  for(l1 in 1:length(out)) {\n",
    "    TMP <- out[[l1]]\n",
    "    for(l2 in 1:length(TMP)) {\n",
    "      OUT[[length(OUT) + 1]] <- TMP[[l2]]\n",
    "    }\n",
    "  }\n",
    "  \n",
    "  if(verbose) {\n",
    "    message(\"\", appendLF = TRUE)\n",
    "    message(\"Done!\", appendLF = TRUE)\n",
    "  }\n",
    "  \n",
    "  return(OUT)\n",
    "}   \n",
    "#extract ids(doi,pmcid,pmid) from pubmed \n",
    "extract_article_ids <- function(pubmed_data_list) {\n",
    "  \n",
    "  x <- pubmed_data_list\n",
    "  \n",
    "  # Tmp f(x)\n",
    "  my_grep <- function(X, idtype = \"pubmed\") {\n",
    "    \n",
    "    myPAT <- paste0(\"^.*\", idtype)\n",
    "    out <- tryCatch({\n",
    "      if (!grepl(myPAT, X)) {\n",
    "        Y <- NA\n",
    "      } else {\n",
    "        Y <- sub(myPAT, \"\", X)\n",
    "        Y <- sub(\"</ArticleId>.*$\", \"\", Y)\n",
    "        Y <- sub(\"^.*>\", \"\", Y)\n",
    "      }\n",
    "      Y\n",
    "    }, error = function(e) NA)\n",
    "    \n",
    "    return(out)  \n",
    "  }\n",
    "  \n",
    "  # dddd\n",
    "  out <- lapply(x, function(xx) {\n",
    "    y <- sub(\"</ArticleIdList>.+\", \"</ArticleIdList>\", xx)\n",
    "    y <- sub(\"^.+(<ArticleIdList.+$)\", \"\\\\1\", y)\n",
    "    \n",
    "    data.frame(\n",
    "      PMID = my_grep(X = y, idtype = \"pubmed\"),\n",
    "      DOI = my_grep(X = y, idtype = \"doi\"), \n",
    "      PMCID = my_grep(X = y, idtype = \"pmc\"), \n",
    "      stringsAsFactors = FALSE)\n",
    "  })\n",
    "\n",
    "# Return\n",
    "  out <- do.call(rbind, out)\n",
    "  return(out)\n",
    "}   "
   ]
  },
  {
   "cell_type": "code",
   "execution_count": 52,
   "metadata": {},
   "outputs": [
    {
     "data": {
      "text/html": [
       "<table>\n",
       "<thead><tr><th scope=col>Pmid</th></tr></thead>\n",
       "<tbody>\n",
       "\t<tr><td>10022051</td></tr>\n",
       "\t<tr><td>10024569</td></tr>\n",
       "\t<tr><td>10030753</td></tr>\n",
       "\t<tr><td>10048769</td></tr>\n",
       "\t<tr><td>10048831</td></tr>\n",
       "\t<tr><td>10065173</td></tr>\n",
       "</tbody>\n",
       "</table>\n"
      ],
      "text/latex": [
       "\\begin{tabular}{r|l}\n",
       " Pmid\\\\\n",
       "\\hline\n",
       "\t 10022051\\\\\n",
       "\t 10024569\\\\\n",
       "\t 10030753\\\\\n",
       "\t 10048769\\\\\n",
       "\t 10048831\\\\\n",
       "\t 10065173\\\\\n",
       "\\end{tabular}\n"
      ],
      "text/markdown": [
       "\n",
       "Pmid | \n",
       "|---|---|---|---|---|---|\n",
       "| 10022051 | \n",
       "| 10024569 | \n",
       "| 10030753 | \n",
       "| 10048769 | \n",
       "| 10048831 | \n",
       "| 10065173 | \n",
       "\n",
       "\n"
      ],
      "text/plain": [
       "  Pmid    \n",
       "1 10022051\n",
       "2 10024569\n",
       "3 10030753\n",
       "4 10048769\n",
       "5 10048831\n",
       "6 10065173"
      ]
     },
     "metadata": {},
     "output_type": "display_data"
    }
   ],
   "source": [
    "#identifying the pmids \n",
    "head(Kenya_pmid.csv)"
   ]
  },
  {
   "cell_type": "markdown",
   "metadata": {},
   "source": [
    "## Status of open access among kenyan article \n",
    "The scripts extracts pmcid information on all the 14488 papers and hence creating a table that contains the status of open access among kenyan article."
   ]
  },
  {
   "cell_type": "code",
   "execution_count": 22,
   "metadata": {},
   "outputs": [
    {
     "name": "stderr",
     "output_type": "stream",
     "text": [
      "......................................................................................................................................................................................................................................................................................................................................................................................................................................................................................................................................................................................................................................................................................................................................................................\n",
      "Done!\n"
     ]
    }
   ],
   "source": [
    "#Extract data from pmid in xml format \n",
    "kenya_pmid.xml <- fetch_PMID_data (my.data3$data$pmid)"
   ]
  },
  {
   "cell_type": "code",
   "execution_count": 23,
   "metadata": {},
   "outputs": [],
   "source": [
    "# Retrival of the pmcid \n",
    "Kenyapmcid2.csv <- extract_article_ids(kenya_pmid.xml)\n",
    "\n",
    "# # exporting data from the R console to the desktop\n",
    "write.table(Kenyapmcid2.csv, \"../data/Kenyapmcid2.csv\", row.names=F, sep =\"\\t\")"
   ]
  },
  {
   "cell_type": "code",
   "execution_count": 24,
   "metadata": {},
   "outputs": [
    {
     "name": "stdout",
     "output_type": "stream",
     "text": [
      "bash ../script/data_creation.sh"
     ]
    }
   ],
   "source": [
    "#Bash script for designing the Kenyan article table\n",
    "y <- \"bash ../script/data_creation.sh\"\n",
    "\n",
    "cat(y)"
   ]
  },
  {
   "cell_type": "code",
   "execution_count": 25,
   "metadata": {},
   "outputs": [],
   "source": [
    "#Ran the bash script in R\n",
    "system(y)"
   ]
  },
  {
   "cell_type": "code",
   "execution_count": 26,
   "metadata": {},
   "outputs": [],
   "source": [
    "#importing the data in R\n",
    "PMID_PMC_Journal_Year_Kenya2.csv<- read.csv(\"../data/PMID_PMC_Journal_Year_Kenya2.csv\")"
   ]
  },
  {
   "cell_type": "code",
   "execution_count": 27,
   "metadata": {},
   "outputs": [
    {
     "data": {
      "text/html": [
       "<table>\n",
       "<thead><tr><th scope=col>Pmid</th><th scope=col>Journal</th><th scope=col>Year</th><th scope=col>Month</th><th scope=col>Pmcid</th></tr></thead>\n",
       "<tbody>\n",
       "\t<tr><td>10022051                                                                                                                          </td><td>Preventive veterinary medicine                                                                                                    </td><td>1999                                                                                                                              </td><td>1                                                                                                                                 </td><td>NA                                                                                                                                </td></tr>\n",
       "\t<tr><td>10024569                                                                                                                          </td><td>Infection and immunity                                                                                                            </td><td>1999                                                                                                                              </td><td>3                                                                                                                                 </td><td>PMC96455                                                                                                                          </td></tr>\n",
       "\t<tr><td>10030753                                                                                                                          </td><td>Veterinary parasitology                                                                                                           </td><td>1999                                                                                                                              </td><td>2                                                                                                                                 </td><td>NA                                                                                                                                </td></tr>\n",
       "\t<tr><td>10048769                                                                                                                              </td><td>Journal of interferon &amp; cytokine research : the official journal of the International Society for Interferon and Cytokine Research</td><td>1999                                                                                                                                  </td><td>1                                                                                                                                     </td><td><span style=white-space:pre-wrap>NA      </span>                                                                                      </td></tr>\n",
       "\t<tr><td>10048831                                                                                                                          </td><td>International journal for parasitology                                                                                            </td><td>1999                                                                                                                              </td><td>1                                                                                                                                 </td><td>NA                                                                                                                                </td></tr>\n",
       "\t<tr><td>10065173                                                                                                                          </td><td>East African medical journal                                                                                                      </td><td>1998                                                                                                                              </td><td>11                                                                                                                                </td><td>NA                                                                                                                                </td></tr>\n",
       "</tbody>\n",
       "</table>\n"
      ],
      "text/latex": [
       "\\begin{tabular}{r|lllll}\n",
       " Pmid & Journal & Year & Month & Pmcid\\\\\n",
       "\\hline\n",
       "\t 10022051                                                                                                                           & Preventive veterinary medicine                                                                                                     & 1999                                                                                                                               & 1                                                                                                                                  & NA                                                                                                                                \\\\\n",
       "\t 10024569                                                                                                                           & Infection and immunity                                                                                                             & 1999                                                                                                                               & 3                                                                                                                                  & PMC96455                                                                                                                          \\\\\n",
       "\t 10030753                                                                                                                           & Veterinary parasitology                                                                                                            & 1999                                                                                                                               & 2                                                                                                                                  & NA                                                                                                                                \\\\\n",
       "\t 10048769                                                                                                                             & Journal of interferon \\& cytokine research : the official journal of the International Society for Interferon and Cytokine Research & 1999                                                                                                                                 & 1                                                                                                                                    & NA                                                                                                                                  \\\\\n",
       "\t 10048831                                                                                                                           & International journal for parasitology                                                                                             & 1999                                                                                                                               & 1                                                                                                                                  & NA                                                                                                                                \\\\\n",
       "\t 10065173                                                                                                                           & East African medical journal                                                                                                       & 1998                                                                                                                               & 11                                                                                                                                 & NA                                                                                                                                \\\\\n",
       "\\end{tabular}\n"
      ],
      "text/markdown": [
       "\n",
       "Pmid | Journal | Year | Month | Pmcid | \n",
       "|---|---|---|---|---|---|\n",
       "| 10022051                                                                                                                           | Preventive veterinary medicine                                                                                                     | 1999                                                                                                                               | 1                                                                                                                                  | NA                                                                                                                                 | \n",
       "| 10024569                                                                                                                           | Infection and immunity                                                                                                             | 1999                                                                                                                               | 3                                                                                                                                  | PMC96455                                                                                                                           | \n",
       "| 10030753                                                                                                                           | Veterinary parasitology                                                                                                            | 1999                                                                                                                               | 2                                                                                                                                  | NA                                                                                                                                 | \n",
       "| 10048769                                                                                                                           | Journal of interferon & cytokine research : the official journal of the International Society for Interferon and Cytokine Research | 1999                                                                                                                               | 1                                                                                                                                  | NA                                                                                                                                 | \n",
       "| 10048831                                                                                                                           | International journal for parasitology                                                                                             | 1999                                                                                                                               | 1                                                                                                                                  | NA                                                                                                                                 | \n",
       "| 10065173                                                                                                                           | East African medical journal                                                                                                       | 1998                                                                                                                               | 11                                                                                                                                 | NA                                                                                                                                 | \n",
       "\n",
       "\n"
      ],
      "text/plain": [
       "  Pmid    \n",
       "1 10022051\n",
       "2 10024569\n",
       "3 10030753\n",
       "4 10048769\n",
       "5 10048831\n",
       "6 10065173\n",
       "  Journal                                                                                                                           \n",
       "1 Preventive veterinary medicine                                                                                                    \n",
       "2 Infection and immunity                                                                                                            \n",
       "3 Veterinary parasitology                                                                                                           \n",
       "4 Journal of interferon & cytokine research : the official journal of the International Society for Interferon and Cytokine Research\n",
       "5 International journal for parasitology                                                                                            \n",
       "6 East African medical journal                                                                                                      \n",
       "  Year Month Pmcid   \n",
       "1 1999 1     NA      \n",
       "2 1999 3     PMC96455\n",
       "3 1999 2     NA      \n",
       "4 1999 1     NA      \n",
       "5 1999 1     NA      \n",
       "6 1998 11    NA      "
      ]
     },
     "metadata": {},
     "output_type": "display_data"
    }
   ],
   "source": [
    "head(PMID_PMC_Journal_Year_Kenya2.csv)"
   ]
  },
  {
   "cell_type": "code",
   "execution_count": 28,
   "metadata": {},
   "outputs": [
    {
     "name": "stdout",
     "output_type": "stream",
     "text": [
      "bash ../script/script.sh"
     ]
    }
   ],
   "source": [
    "#Bash script for data manipulation\n",
    "z <- \"bash ../script/script.sh\"\n",
    "\n",
    "cat(z)"
   ]
  },
  {
   "cell_type": "code",
   "execution_count": 29,
   "metadata": {},
   "outputs": [],
   "source": [
    "#Ran the bash script in R\n",
    "system(z)"
   ]
  },
  {
   "cell_type": "code",
   "execution_count": 31,
   "metadata": {},
   "outputs": [],
   "source": [
    "#importing the data in R\n",
    "PMID_PMC_Journal_Year_Kenya3.csv<- read.csv(\"../data/PMID_PMC_Journal_Year_Kenya3.csv\")"
   ]
  },
  {
   "cell_type": "code",
   "execution_count": 32,
   "metadata": {},
   "outputs": [
    {
     "data": {
      "text/html": [
       "<table>\n",
       "<thead><tr><th scope=col>Pmid</th><th scope=col>Journal</th><th scope=col>Year</th><th scope=col>Month</th><th scope=col>Pmcid</th><th scope=col>Status</th></tr></thead>\n",
       "<tbody>\n",
       "\t<tr><td>10022051                                                                                                                          </td><td>Preventive veterinary medicine                                                                                                    </td><td>1999                                                                                                                              </td><td> 1                                                                                                                                </td><td>NA                                                                                                                                </td><td>closed                                                                                                                            </td></tr>\n",
       "\t<tr><td>10024569                                                                                                                          </td><td>Infection and immunity                                                                                                            </td><td>1999                                                                                                                              </td><td> 3                                                                                                                                </td><td>PMC96455                                                                                                                          </td><td>open                                                                                                                              </td></tr>\n",
       "\t<tr><td>10030753                                                                                                                          </td><td>Veterinary parasitology                                                                                                           </td><td>1999                                                                                                                              </td><td> 2                                                                                                                                </td><td>NA                                                                                                                                </td><td>closed                                                                                                                            </td></tr>\n",
       "\t<tr><td>10048769                                                                                                                              </td><td>Journal of interferon &amp; cytokine research : the official journal of the International Society for Interferon and Cytokine Research</td><td>1999                                                                                                                                  </td><td> 1                                                                                                                                    </td><td><span style=white-space:pre-wrap>NA      </span>                                                                                      </td><td>closed                                                                                                                                </td></tr>\n",
       "\t<tr><td>10048831                                                                                                                          </td><td>International journal for parasitology                                                                                            </td><td>1999                                                                                                                              </td><td> 1                                                                                                                                </td><td>NA                                                                                                                                </td><td>closed                                                                                                                            </td></tr>\n",
       "\t<tr><td>10065173                                                                                                                          </td><td>East African medical journal                                                                                                      </td><td>1998                                                                                                                              </td><td>11                                                                                                                                </td><td>NA                                                                                                                                </td><td>closed                                                                                                                            </td></tr>\n",
       "</tbody>\n",
       "</table>\n"
      ],
      "text/latex": [
       "\\begin{tabular}{r|llllll}\n",
       " Pmid & Journal & Year & Month & Pmcid & Status\\\\\n",
       "\\hline\n",
       "\t 10022051                                                                                                                           & Preventive veterinary medicine                                                                                                     & 1999                                                                                                                               &  1                                                                                                                                 & NA                                                                                                                                 & closed                                                                                                                            \\\\\n",
       "\t 10024569                                                                                                                           & Infection and immunity                                                                                                             & 1999                                                                                                                               &  3                                                                                                                                 & PMC96455                                                                                                                           & open                                                                                                                              \\\\\n",
       "\t 10030753                                                                                                                           & Veterinary parasitology                                                                                                            & 1999                                                                                                                               &  2                                                                                                                                 & NA                                                                                                                                 & closed                                                                                                                            \\\\\n",
       "\t 10048769                                                                                                                             & Journal of interferon \\& cytokine research : the official journal of the International Society for Interferon and Cytokine Research & 1999                                                                                                                                 &  1                                                                                                                                   & NA                                                                                                                                   & closed                                                                                                                              \\\\\n",
       "\t 10048831                                                                                                                           & International journal for parasitology                                                                                             & 1999                                                                                                                               &  1                                                                                                                                 & NA                                                                                                                                 & closed                                                                                                                            \\\\\n",
       "\t 10065173                                                                                                                           & East African medical journal                                                                                                       & 1998                                                                                                                               & 11                                                                                                                                 & NA                                                                                                                                 & closed                                                                                                                            \\\\\n",
       "\\end{tabular}\n"
      ],
      "text/markdown": [
       "\n",
       "Pmid | Journal | Year | Month | Pmcid | Status | \n",
       "|---|---|---|---|---|---|\n",
       "| 10022051                                                                                                                           | Preventive veterinary medicine                                                                                                     | 1999                                                                                                                               |  1                                                                                                                                 | NA                                                                                                                                 | closed                                                                                                                             | \n",
       "| 10024569                                                                                                                           | Infection and immunity                                                                                                             | 1999                                                                                                                               |  3                                                                                                                                 | PMC96455                                                                                                                           | open                                                                                                                               | \n",
       "| 10030753                                                                                                                           | Veterinary parasitology                                                                                                            | 1999                                                                                                                               |  2                                                                                                                                 | NA                                                                                                                                 | closed                                                                                                                             | \n",
       "| 10048769                                                                                                                           | Journal of interferon & cytokine research : the official journal of the International Society for Interferon and Cytokine Research | 1999                                                                                                                               |  1                                                                                                                                 | NA                                                                                                                                 | closed                                                                                                                             | \n",
       "| 10048831                                                                                                                           | International journal for parasitology                                                                                             | 1999                                                                                                                               |  1                                                                                                                                 | NA                                                                                                                                 | closed                                                                                                                             | \n",
       "| 10065173                                                                                                                           | East African medical journal                                                                                                       | 1998                                                                                                                               | 11                                                                                                                                 | NA                                                                                                                                 | closed                                                                                                                             | \n",
       "\n",
       "\n"
      ],
      "text/plain": [
       "  Pmid    \n",
       "1 10022051\n",
       "2 10024569\n",
       "3 10030753\n",
       "4 10048769\n",
       "5 10048831\n",
       "6 10065173\n",
       "  Journal                                                                                                                           \n",
       "1 Preventive veterinary medicine                                                                                                    \n",
       "2 Infection and immunity                                                                                                            \n",
       "3 Veterinary parasitology                                                                                                           \n",
       "4 Journal of interferon & cytokine research : the official journal of the International Society for Interferon and Cytokine Research\n",
       "5 International journal for parasitology                                                                                            \n",
       "6 East African medical journal                                                                                                      \n",
       "  Year Month Pmcid    Status\n",
       "1 1999  1    NA       closed\n",
       "2 1999  3    PMC96455 open  \n",
       "3 1999  2    NA       closed\n",
       "4 1999  1    NA       closed\n",
       "5 1999  1    NA       closed\n",
       "6 1998 11    NA       closed"
      ]
     },
     "metadata": {},
     "output_type": "display_data"
    }
   ],
   "source": [
    "head(PMID_PMC_Journal_Year_Kenya3.csv)"
   ]
  },
  {
   "cell_type": "code",
   "execution_count": null,
   "metadata": {},
   "outputs": [],
   "source": []
  }
 ],
 "metadata": {
  "kernelspec": {
   "display_name": "R",
   "language": "R",
   "name": "ir"
  }
 },
 "nbformat": 4,
 "nbformat_minor": 4
}
