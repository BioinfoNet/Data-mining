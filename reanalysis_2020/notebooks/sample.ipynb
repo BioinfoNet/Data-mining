{
 "cells": [
  {
   "cell_type": "code",
   "execution_count": 23,
   "metadata": {},
   "outputs": [
    {
     "name": "stderr",
     "output_type": "stream",
     "text": [
      "/home/icipe/miniconda3/envs/jupyter/lib/python3.5/site-packages/ipykernel_launcher.py:2: UserWarning: matplotlib.pyplot as already been imported, this call will have no effect.\n",
      "  \n"
     ]
    }
   ],
   "source": [
    "import matplotlib\n",
    "matplotlib.use(\"Agg\")\n",
    "import matplotlib.pyplot as plt\n",
    "import pandas as pd\n",
    "%matplotlib inline"
   ]
  },
  {
   "cell_type": "code",
   "execution_count": 24,
   "metadata": {},
   "outputs": [],
   "source": [
    "from plotnine import *"
   ]
  },
  {
   "cell_type": "code",
   "execution_count": 43,
   "metadata": {},
   "outputs": [],
   "source": [
    "from ggplot import *"
   ]
  },
  {
   "cell_type": "code",
   "execution_count": 44,
   "metadata": {},
   "outputs": [],
   "source": [
    "data = pd.read_csv('Data-mining/Data/PMID_PMC_Journal_Year_Kenya.csv', index_col='pmid')"
   ]
  },
  {
   "cell_type": "code",
   "execution_count": 45,
   "metadata": {},
   "outputs": [
    {
     "data": {
      "text/html": [
       "<div>\n",
       "<style scoped>\n",
       "    .dataframe tbody tr th:only-of-type {\n",
       "        vertical-align: middle;\n",
       "    }\n",
       "\n",
       "    .dataframe tbody tr th {\n",
       "        vertical-align: top;\n",
       "    }\n",
       "\n",
       "    .dataframe thead th {\n",
       "        text-align: right;\n",
       "    }\n",
       "</style>\n",
       "<table border=\"1\" class=\"dataframe\">\n",
       "  <thead>\n",
       "    <tr style=\"text-align: right;\">\n",
       "      <th></th>\n",
       "      <th>pmcid</th>\n",
       "      <th>isopen</th>\n",
       "      <th>journal</th>\n",
       "      <th>date</th>\n",
       "      <th>year</th>\n",
       "      <th>month</th>\n",
       "    </tr>\n",
       "    <tr>\n",
       "      <th>pmid</th>\n",
       "      <th></th>\n",
       "      <th></th>\n",
       "      <th></th>\n",
       "      <th></th>\n",
       "      <th></th>\n",
       "      <th></th>\n",
       "    </tr>\n",
       "  </thead>\n",
       "  <tbody>\n",
       "    <tr>\n",
       "      <th>30165703</th>\n",
       "      <td>NaN</td>\n",
       "      <td>closed</td>\n",
       "      <td>J Infect Dis</td>\n",
       "      <td>2018-08-24</td>\n",
       "      <td>2018.0</td>\n",
       "      <td>8.0</td>\n",
       "    </tr>\n",
       "    <tr>\n",
       "      <th>30165548</th>\n",
       "      <td>NaN</td>\n",
       "      <td>closed</td>\n",
       "      <td>J Infect Dis</td>\n",
       "      <td>2018-08-27</td>\n",
       "      <td>2018.0</td>\n",
       "      <td>8.0</td>\n",
       "    </tr>\n",
       "    <tr>\n",
       "      <th>30165370</th>\n",
       "      <td>PMC6117160</td>\n",
       "      <td>open</td>\n",
       "      <td>PLoS One</td>\n",
       "      <td>2018-08-30</td>\n",
       "      <td>2018.0</td>\n",
       "      <td>8.0</td>\n",
       "    </tr>\n",
       "    <tr>\n",
       "      <th>30161172</th>\n",
       "      <td>PMC6116983</td>\n",
       "      <td>open</td>\n",
       "      <td>PLoS One</td>\n",
       "      <td>2018-08-30</td>\n",
       "      <td>2018.0</td>\n",
       "      <td>8.0</td>\n",
       "    </tr>\n",
       "    <tr>\n",
       "      <th>30158702</th>\n",
       "      <td>NaN</td>\n",
       "      <td>closed</td>\n",
       "      <td>Nature</td>\n",
       "      <td>2018-09-01</td>\n",
       "      <td>2018.0</td>\n",
       "      <td>9.0</td>\n",
       "    </tr>\n",
       "  </tbody>\n",
       "</table>\n",
       "</div>"
      ],
      "text/plain": [
       "               pmcid  isopen        journal        date    year  month\n",
       "pmid                                                                  \n",
       "30165703         NaN  closed   J Infect Dis  2018-08-24  2018.0    8.0\n",
       "30165548         NaN  closed   J Infect Dis  2018-08-27  2018.0    8.0\n",
       "30165370  PMC6117160    open       PLoS One  2018-08-30  2018.0    8.0\n",
       "30161172  PMC6116983    open       PLoS One  2018-08-30  2018.0    8.0\n",
       "30158702         NaN  closed         Nature  2018-09-01  2018.0    9.0"
      ]
     },
     "execution_count": 45,
     "metadata": {},
     "output_type": "execute_result"
    }
   ],
   "source": [
    "data.head()"
   ]
  },
  {
   "cell_type": "code",
   "execution_count": 46,
   "metadata": {},
   "outputs": [
    {
     "data": {
      "text/plain": [
       "Index(['pmcid', 'isopen', 'journal', 'date', 'year', 'month'], dtype='object')"
      ]
     },
     "execution_count": 46,
     "metadata": {},
     "output_type": "execute_result"
    }
   ],
   "source": [
    "data.columns"
   ]
  },
  {
   "cell_type": "code",
   "execution_count": 47,
   "metadata": {},
   "outputs": [
    {
     "data": {
      "text/plain": [
       "pmid\n",
       "30165703    2018.0\n",
       "30165548    2018.0\n",
       "30165370    2018.0\n",
       "30161172    2018.0\n",
       "30158702    2018.0\n",
       "30158473    2018.0\n",
       "30157796    2018.0\n",
       "30157702    2018.0\n",
       "30157200    2018.0\n",
       "30154858    2018.0\n",
       "30154854    2018.0\n",
       "30151125    2015.0\n",
       "30153540    2018.0\n",
       "30153349    2018.0\n",
       "30152267    2018.0\n",
       "30151811    2018.0\n",
       "30151809    2018.0\n",
       "30151808    2018.0\n",
       "30151807    2018.0\n",
       "30151805    2018.0\n",
       "30151804    2018.0\n",
       "30151585    2018.0\n",
       "30151175    2018.0\n",
       "30151171    2018.0\n",
       "30150604    2018.0\n",
       "30148757    2018.0\n",
       "30148731    2018.0\n",
       "30147944    2018.0\n",
       "30145260    2018.0\n",
       "30144807    2018.0\n",
       "             ...  \n",
       "15615049    1980.0\n",
       "28309553    1980.0\n",
       "28309479    1980.0\n",
       "29776301    1979.0\n",
       "18962443    1979.0\n",
       "28309221    1979.0\n",
       "28309220    1979.0\n",
       "28309870    1978.0\n",
       "28308664    1978.0\n",
       "28308942    1977.0\n",
       "16498891    1976.0\n",
       "24442781    1974.0\n",
       "28308142    1973.0\n",
       "22894862    1971.0\n",
       "18631557    1971.0\n",
       "16057187    1970.0\n",
       "18631511    1970.0\n",
       "18631463    1969.0\n",
       "28564804    1968.0\n",
       "21105543    1966.0\n",
       "22413193    1966.0\n",
       "28908643    1963.0\n",
       "18170613    1958.0\n",
       "16747425    1941.0\n",
       "29012766    1935.0\n",
       "29012815    1935.0\n",
       "17104469    1934.0\n",
       "28897723       NaN\n",
       "29009979    1931.0\n",
       "29011364    1926.0\n",
       "Name: year, Length: 13220, dtype: float64"
      ]
     },
     "execution_count": 47,
     "metadata": {},
     "output_type": "execute_result"
    }
   ],
   "source": [
    "data.year"
   ]
  },
  {
   "cell_type": "code",
   "execution_count": 48,
   "metadata": {},
   "outputs": [],
   "source": [
    "p=ggplot(data, aes(x='year',fill='isopen')) +\\\n",
    "    geom_histogram(binwidth=1) + \\\n",
    "ggtitle(\"Relationship between Years and and the number of papers by Openess\") \\\n",
    "+ xlab(\"Year\") + ylab(\"Number of Papers\")"
   ]
  },
  {
   "cell_type": "code",
   "execution_count": 49,
   "metadata": {},
   "outputs": [
    {
     "data": {
      "image/png": "[encoded data removed]",
      "text/plain": [
       "<Figure size 792x576 with 1 Axes>"
      ]
     },
     "metadata": {},
     "output_type": "display_data"
    },
    {
     "data": {
      "text/plain": [
       "<ggplot: (-9223363250094579915)>"
      ]
     },
     "execution_count": 49,
     "metadata": {},
     "output_type": "execute_result"
    }
   ],
   "source": [
    "p"
   ]
  },
  {
   "cell_type": "code",
   "execution_count": null,
   "metadata": {},
   "outputs": [],
   "source": []
  }
 ],
 "metadata": {
  "kernelspec": {
   "display_name": "Python 3",
   "language": "python",
   "name": "python3"
  },
  "language_info": {
   "codemirror_mode": {
    "name": "ipython",
    "version": 3
   },
   "file_extension": ".py",
   "mimetype": "text/x-python",
   "name": "python",
   "nbconvert_exporter": "python",
   "pygments_lexer": "ipython3",
   "version": "3.5.6"
  }
 },
 "nbformat": 4,
 "nbformat_minor": 4
}
